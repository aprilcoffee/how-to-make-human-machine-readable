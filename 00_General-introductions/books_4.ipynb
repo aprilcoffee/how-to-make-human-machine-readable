{
 "cells": [
  {
   "cell_type": "markdown",
   "id": "d552ec7b-afc5-434d-bce8-fba2c0cbe55a",
   "metadata": {},
   "source": [
    "# Programmed books 4"
   ]
  },
  {
   "cell_type": "markdown",
   "id": "31b5ef43-17ee-4ab0-89c7-46e22dac266d",
   "metadata": {},
   "source": [
    "## Random position"
   ]
  },
  {
   "cell_type": "code",
   "execution_count": null,
   "id": "f0bb032f-9b28-4cdb-8cc1-37f2db2375af",
   "metadata": {},
   "outputs": [],
   "source": [
    "from fpdf import FPDF\n",
    "import os\n",
    "import random\n",
    "\n",
    "''' Create FPDF object. '''\n",
    "\n",
    "pdf = FPDF('P', 'mm', format='A5') # 148 × 210 \n",
    "pdf.set_margins(left=10, top=10, right=10)\n",
    "pdf.set_font('Helvetica')\n",
    "\n",
    "\n",
    "''' Title page. '''\n",
    "pdf.add_page()\n",
    "pdf.set_font_size(40)\n",
    "pdf.ln(50)\n",
    "pdf.multi_cell(0, None, txt='Random positioning', align='C')\n",
    "\n",
    "\n",
    "''' Render text in different fonts on random positions. '''\n",
    "\n",
    "pdf.add_page()\n",
    "pdf.set_font_size(14)\n",
    "fonts = os.listdir('fonts')\n",
    "fonts = [font for font in fonts if font.endswith('.ttf')]\n",
    "\n",
    "for font in fonts:\n",
    "    \n",
    "    font_name = os.path.splitext(font)[0]\n",
    "    font_path = 'fonts/' + font\n",
    "    \n",
    "    pdf.add_font(font_name, '', font_path, uni=True)\n",
    "    pdf.set_font(font_name)\n",
    "    pdf.set_text_color(random.randint(0,220))\n",
    "    \n",
    "    txt = 'The quick brown fox jumps over the lazy dog'\n",
    "    txt += '\\n(' + font_name + ')'\n",
    "    \n",
    "    pdf.set_x(random.randint(10, 100))\n",
    "    pdf.set_y(random.randint(10, 180))\n",
    "    pdf.multi_cell(w=random.randint(0, 128), h=5, txt=txt,\n",
    "        align=random.choice(['L', 'C', 'R']))\n",
    "\n",
    "\n",
    "'''Save PDF.'''\n",
    "\n",
    "pdf.output('generated_pdfs/007.pdf')"
   ]
  },
  {
   "cell_type": "markdown",
   "id": "c77de6c4-a8f7-4a56-aba8-93b11159f916",
   "metadata": {},
   "source": [
    "<a href='pdf/007.pdf' target=\"_blank\">View PDF</a>\n",
    "<br>\n",
    "<br>\n",
    "![007.gif](images/007.gif)"
   ]
  },
  {
   "cell_type": "markdown",
   "id": "1228fcbb-f832-4af1-a3eb-39888f76a912",
   "metadata": {},
   "source": [
    "<br><br>\n",
    "\n",
    "## Image zoom"
   ]
  },
  {
   "cell_type": "code",
   "execution_count": null,
   "id": "7e783e5c-3824-411f-bf8b-3e5207d68ea7",
   "metadata": {},
   "outputs": [],
   "source": [
    "from fpdf import FPDF\n",
    "import os\n",
    "\n",
    "''' Create FPDF object. '''\n",
    "\n",
    "pdf = FPDF('P', 'mm', format='A5') # 148 × 210\n",
    "pdf.set_margins(left=20, top=20, right=20)\n",
    "\n",
    "\n",
    "''' Render an image with increasing size. '''\n",
    "\n",
    "img_path = 'images/Ghostscript_Tiger.png'\n",
    "size = 1\n",
    "\n",
    "for i in range(14):\n",
    "    pdf.add_page()\n",
    "    pdf.image(img_path, x = (148-size)/2, y = (210-size)/2, w = size, h = size)\n",
    "    size *= 2\n",
    "    \n",
    "\n",
    "''' Save PDF. '''\n",
    "\n",
    "pdf.output('generated_pdfs/008.pdf')"
   ]
  },
  {
   "cell_type": "markdown",
   "id": "2ec6e8b2-e2c1-424b-a965-ff2c9a36a25a",
   "metadata": {},
   "source": [
    "<a href='pdf/008.pdf' target=\"_blank\">View PDF</a>\n",
    "<br>\n",
    "<br>\n",
    "![008.gif](images/008.gif)"
   ]
  },
  {
   "cell_type": "markdown",
   "id": "d1eb8a59-6aff-4f9b-aad2-2bce36738f68",
   "metadata": {},
   "source": [
    "<br>\n",
    "<br>\n",
    "\n",
    "## While"
   ]
  },
  {
   "cell_type": "code",
   "execution_count": null,
   "id": "56f8df7c-dc44-43e7-9a7f-bfc527e2fc7f",
   "metadata": {},
   "outputs": [],
   "source": [
    "from fpdf import FPDF\n",
    "import os\n",
    "\n",
    "''' Create FPDF object. '''\n",
    "\n",
    "pdf = FPDF('P', 'mm', format='A5') # 148 × 210\n",
    "\n",
    "\n",
    "''' Render lines from top to bottom until the end is reached. '''\n",
    "\n",
    "pdf.set_margin(0)\n",
    "line_width = 2\n",
    "pdf.set_draw_color(0, 80, 180)\n",
    "pdf.set_line_width(line_width)\n",
    "\n",
    "y = 0\n",
    "\n",
    "while y <= 210:\n",
    "    \n",
    "    pdf.add_page()\n",
    "    pdf.line(x1=0, y1=y, x2=148, y2=y)\n",
    "    y += line_width\n",
    "\n",
    "''' Save PDF. '''\n",
    "\n",
    "pdf.output('generated_pdfs/009.pdf')"
   ]
  },
  {
   "cell_type": "markdown",
   "id": "70775a3d-58fc-4134-a115-5b248b1c431e",
   "metadata": {},
   "source": [
    "<a href='pdf/009.pdf' target=\"_blank\">View PDF</a>\n",
    "<br>\n",
    "<br>\n",
    "![009.gif](images/009.gif)"
   ]
  }
 ],
 "metadata": {
  "kernelspec": {
   "display_name": "Python 3",
   "language": "python",
   "name": "python3"
  },
  "language_info": {
   "codemirror_mode": {
    "name": "ipython",
    "version": 3
   },
   "file_extension": ".py",
   "mimetype": "text/x-python",
   "name": "python",
   "nbconvert_exporter": "python",
   "pygments_lexer": "ipython3",
   "version": "3.9.7"
  }
 },
 "nbformat": 4,
 "nbformat_minor": 5
}
