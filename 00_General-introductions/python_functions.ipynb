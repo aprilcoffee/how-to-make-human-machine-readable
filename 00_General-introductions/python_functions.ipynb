{
 "cells": [
  {
   "cell_type": "markdown",
   "metadata": {
    "tags": []
   },
   "source": [
    "# Python: Functions"
   ]
  },
  {
   "cell_type": "markdown",
   "metadata": {},
   "source": [
    "## Functions\n",
    "\n",
    "Python has a lot of built-in **functions** ([overview](https://docs.python.org/3/library/functions.html)) and we have already used some of them. But what is a function?<br>\n",
    "<br>\n",
    "A function is a block of code with a name (address), thus it is *callable* and only executed if it is called.<br>\n",
    "This also means that you can call a (initialized) function everywhere in the **scope** (see below) of your program, similar to a variable.<br>\n",
    "\n",
    "<div class=\"alert alert-block alert-success\" style=\"font-color: black;\">\n",
    "Commonly we will insert data into a function. The data is processed inside the function, then the new data is <i>returned</i> or output.\n",
    "</div>\n",
    "\n",
    "Let's have a look at the Pure Data example again. Two numbers are added with an **operator** called `+`. Now we will write a function which does the same:<br>\n",
    "It takes two **arguments** as inputs and **returns** the sum of them.\n",
    "\n",
    "![pd_addition.gif](images/pd_addition.gif) Small program in the visual programming language [Pure Data](https://puredata.info/)."
   ]
  },
  {
   "cell_type": "markdown",
   "metadata": {},
   "source": [
    "## Defining a function\n",
    "\n",
    "Functions are stored as variables (or – in terms of Python – as *objects*) as well, so the naming rules and conventions for variables apply for functions as well of course.<br>\n",
    "The keyword to **define** a function is `def`, followed by a name of our choice, which we will then use to call the function.\n",
    "\n",
    "<div class=\"alert alert-box alert-success\">\n",
    "    The name of our function is followed by two `()`. These define the space were we can insert data. With variable names of our choice we can access this data inside the function.\n",
    "</div>"
   ]
  },
  {
   "cell_type": "code",
   "execution_count": 25,
   "metadata": {},
   "outputs": [],
   "source": [
    "def add_numbers(num1, num2):\n",
    "    # The variables num1 and num2 are accessible \n",
    "    # inside the function.\n",
    "    print(f'{num1} + {num2} is {num1 + num2}')"
   ]
  },
  {
   "cell_type": "markdown",
   "metadata": {},
   "source": [
    "<div class=\"alert alert-box alert-success\">\n",
    "    We have already learned that each line of code is one independent statement.<br>\n",
    "    <i>Inside</i> a function we can write multiple statements (each in one line), which all belong to the function and are executed when we call the function.\n",
    "    To mark code as inside a function, all lines are indent by one tab (commonly 4 spaces).\n",
    "    The `:` at the end of the `def`-line indicates that we have to indent the following line(s).\n",
    "</div>"
   ]
  },
  {
   "cell_type": "markdown",
   "metadata": {},
   "source": [
    "If we execute the block of code, we'll create a new object with the name <code>add_numbers</code>."
   ]
  },
  {
   "cell_type": "markdown",
   "metadata": {},
   "source": [
    "Then we can call our function and **insert** two values into it. The function will print the result."
   ]
  },
  {
   "cell_type": "code",
   "execution_count": 29,
   "metadata": {},
   "outputs": [
    {
     "data": {
      "text/plain": [
       "'3 + 5 is 8'"
      ]
     },
     "execution_count": 29,
     "metadata": {},
     "output_type": "execute_result"
    }
   ],
   "source": [
    "add_numbers(3, 5)"
   ]
  },
  {
   "cell_type": "code",
   "execution_count": 30,
   "metadata": {},
   "outputs": [
    {
     "data": {
      "text/plain": [
       "'11 + -12 is -1'"
      ]
     },
     "execution_count": 30,
     "metadata": {},
     "output_type": "execute_result"
    }
   ],
   "source": [
    "left, right = 11, -12\n",
    "add_numbers(left, right)"
   ]
  },
  {
   "cell_type": "markdown",
   "metadata": {},
   "source": [
    "<div class=\"alert alert-box alert-info\">\n",
    "    Task: Modify the function from above so that it will display just a `-` if the second number is negative. (Output should be `11 - 12 = -1`).<br>\n",
    "    Likely you'll need the function <code>abs()</code> for that. Try <code>abs(-12)</code> or <code>help(abs)</code> to see what it does.\n",
    "</div>"
   ]
  },
  {
   "cell_type": "code",
   "execution_count": 2,
   "metadata": {
    "tags": [
     "hide-input"
    ]
   },
   "outputs": [
    {
     "name": "stdout",
     "output_type": "stream",
     "text": [
      "11 - 12 = -1\n"
     ]
    }
   ],
   "source": [
    "def add_numbers (a, b):\n",
    "    # if b is 0 or positive:\n",
    "    if b >= 0:\n",
    "        print(f'{a} + {b} = {a+b}')\n",
    "    # if b is negative:\n",
    "    else:\n",
    "        print(f'{a} - {abs(b)} = {a+b}')\n",
    "        # another solution:\n",
    "        # print(f'{a} - {b * -1} = {a+b}')\n",
    "        \n",
    "left, right = 11, -12\n",
    "add_numbers(left, right)"
   ]
  },
  {
   "cell_type": "code",
   "execution_count": null,
   "metadata": {},
   "outputs": [],
   "source": []
  },
  {
   "cell_type": "markdown",
   "metadata": {},
   "source": [
    "<div class=\"alert alert-box alert-success\">\n",
    "    The great thing about functions (as they are objects like variables) is that we can call them as often as we want inside our program after we have initiated them.<br>This can save a lot of time, because we can reuse existing code.\n",
    "</div>"
   ]
  },
  {
   "cell_type": "markdown",
   "metadata": {},
   "source": [
    "## Arguments\n",
    "\n",
    "It's possible and often useful (for testing, structuring, reusability) to write a function although we want to use it only once. But the strength appears when we need to execute a block of code on multiple occurences in our program. Let's imagine we have a row of hearts which we want to print on several pages on several positions. We could write the whole code for each occurence or wrap everything in a function and then call this function when needed."
   ]
  },
  {
   "cell_type": "code",
   "execution_count": 3,
   "metadata": {},
   "outputs": [],
   "source": [
    "from fpdf import FPDF"
   ]
  },
  {
   "cell_type": "markdown",
   "metadata": {},
   "source": [
    "### Without arguments"
   ]
  },
  {
   "cell_type": "code",
   "execution_count": 4,
   "metadata": {},
   "outputs": [],
   "source": [
    "def print_hearts_top():\n",
    "    heart_01 = '<3' * 50\n",
    "    pdf.set_font('times', '', 15)\n",
    "    pdf.set_xy(10, 10)\n",
    "    pdf.multi_cell(0, 0, txt=heart_01, align='C')\n",
    "\n",
    "def print_hearts_bottom():\n",
    "    heart_01 = '<3' * 50\n",
    "    pdf.set_font('times', '', 15)\n",
    "    pdf.set_xy(10, 275)\n",
    "    pdf.multi_cell(0, 0, txt=heart_01, align='C')"
   ]
  },
  {
   "cell_type": "code",
   "execution_count": 6,
   "metadata": {},
   "outputs": [],
   "source": [
    "pdf = FPDF('P', 'mm', format='A4')\n",
    "pdf.add_page()\n",
    "print_hearts_top()\n",
    "print_hearts_bottom()\n",
    "pdf.output('hearts_001.pdf')"
   ]
  },
  {
   "cell_type": "markdown",
   "metadata": {},
   "source": [
    "First this looks like more work but if we need the row of hearts again, we just need to call our function and they will be inserted.<br><br>\n",
    "\n",
    "### With arguments\n",
    "\n",
    "One aim when defining functions is to make them flexible. Flexibility is reached through the use of variables. First we can set the position (`set_xy`) as variables, then we can reduce the two functions to one:"
   ]
  },
  {
   "cell_type": "code",
   "execution_count": 7,
   "metadata": {},
   "outputs": [],
   "source": [
    "def print_hearts(x, y):\n",
    "    heart_01 = '<3' * 50\n",
    "    pdf.set_font('times', '', 15)\n",
    "    # Next we'll use the arguments x and y which we passed to the function\n",
    "    pdf.set_xy(x, y)\n",
    "    pdf.multi_cell(0, 0, txt=heart_01, align='C')"
   ]
  },
  {
   "cell_type": "code",
   "execution_count": 8,
   "metadata": {},
   "outputs": [],
   "source": [
    "pdf = FPDF('P', 'mm', format='A4')\n",
    "pdf.add_page()\n",
    "print_hearts(10, 10)\n",
    "print_hearts(10, 275)\n",
    "pdf.output('hearts_002.pdf')"
   ]
  },
  {
   "cell_type": "markdown",
   "metadata": {},
   "source": [
    "### With default arguments\n",
    "\n",
    "When defining a function we can insert default arguments for the variables (parameters). If no arguments are provided when calling the function, the default arguments will be used:"
   ]
  },
  {
   "cell_type": "code",
   "execution_count": 11,
   "metadata": {},
   "outputs": [],
   "source": [
    "def print_hearts(y, x=10, num=50):\n",
    "    pdf.set_font('times', '', 15)\n",
    "    pdf.set_xy(x, y)\n",
    "    pdf.multi_cell(0, 0, txt='<3' * num, align='C')"
   ]
  },
  {
   "cell_type": "markdown",
   "metadata": {},
   "source": [
    "We have to take care of the order of the variables. Variables without a default argument have to be placed before variables with default argument."
   ]
  },
  {
   "cell_type": "code",
   "execution_count": 12,
   "metadata": {},
   "outputs": [],
   "source": [
    "pdf = FPDF('P', 'mm', format='A4')\n",
    "pdf.add_page()\n",
    "print_hearts(y=10)\n",
    "print_hearts(y=275)\n",
    "pdf.output('hearts_003.pdf')"
   ]
  },
  {
   "cell_type": "markdown",
   "metadata": {},
   "source": [
    "## Return\n",
    "\n",
    "At the beginning was stated that functions **return** data. This means that they can give back data after it was processed. This is very useful, because so the data can be stored in a variable again."
   ]
  },
  {
   "cell_type": "code",
   "execution_count": 31,
   "metadata": {},
   "outputs": [
    {
     "name": "stdout",
     "output_type": "stream",
     "text": [
      "some data\n"
     ]
    }
   ],
   "source": [
    "def simple_return(data):\n",
    "    return data\n",
    "\n",
    "d = simple_return('some data')\n",
    "print(d)"
   ]
  },
  {
   "cell_type": "code",
   "execution_count": 33,
   "metadata": {},
   "outputs": [
    {
     "name": "stdout",
     "output_type": "stream",
     "text": [
      "is a rose is a rose \n",
      "A roseis a rose is a rose \n"
     ]
    }
   ],
   "source": [
    "def double_return(data):\n",
    "    return data*2\n",
    "\n",
    "d = double_return('is a rose ')\n",
    "print(d)\n",
    "\n",
    "d = 'A rose' + double_return('is a rose ')\n",
    "print(d)"
   ]
  },
  {
   "cell_type": "code",
   "execution_count": 35,
   "metadata": {},
   "outputs": [
    {
     "data": {
      "text/plain": [
       "19"
      ]
     },
     "execution_count": 35,
     "metadata": {},
     "output_type": "execute_result"
    }
   ],
   "source": [
    "def add_numbers(num1, num2):\n",
    "    res = num1 + num2\n",
    "    return res\n",
    "\n",
    "r = add_numbers(14, 5)\n",
    "r"
   ]
  },
  {
   "cell_type": "markdown",
   "metadata": {
    "tags": []
   },
   "source": [
    "## Scope of variables and functions\n",
    "\n",
    "<div class=\"alert alert-box alert-success\">\n",
    "    Variables and functions have a specific <b>scope</b>, in which you can access (and override) them.<br>\n",
    "    Variables initiated in the main program (not indented) are accessible globally = everywhere, even inside functions.\n",
    "</div>"
   ]
  },
  {
   "cell_type": "code",
   "execution_count": 37,
   "metadata": {},
   "outputs": [
    {
     "name": "stdout",
     "output_type": "stream",
     "text": [
      "1\n"
     ]
    }
   ],
   "source": [
    "x = 1 # global scope\n",
    "\n",
    "def print_x():\n",
    "    print(x)\n",
    "    \n",
    "print_x()"
   ]
  },
  {
   "cell_type": "markdown",
   "metadata": {},
   "source": [
    "If we define a variable inside of a function, it is available only inside this function:"
   ]
  },
  {
   "cell_type": "code",
   "execution_count": 1,
   "metadata": {},
   "outputs": [
    {
     "name": "stdout",
     "output_type": "stream",
     "text": [
      "56\n",
      "1\n"
     ]
    }
   ],
   "source": [
    "x = 1\n",
    "\n",
    "def print_x():\n",
    "    x = 56  # This x is a new variable, avaible only inside the function = local.\n",
    "    print(x)\n",
    "    \n",
    "print_x()\n",
    "\n",
    "print(x) # The outside x is not affected by the operations inside the function."
   ]
  },
  {
   "cell_type": "markdown",
   "metadata": {},
   "source": [
    "We can change the value of a **global** variable from inside a function, if we address the global variable through the keyword `global`:"
   ]
  },
  {
   "cell_type": "code",
   "execution_count": 2,
   "metadata": {},
   "outputs": [
    {
     "name": "stdout",
     "output_type": "stream",
     "text": [
      "71\n"
     ]
    }
   ],
   "source": [
    "def override_x(new_value):\n",
    "    global x\n",
    "    x = new_value\n",
    "    \n",
    "override_x(71)\n",
    "print(x)"
   ]
  },
  {
   "cell_type": "markdown",
   "metadata": {},
   "source": [
    "The same applies to functions. We can write functions inside functions, which are available only to their parent function. But that belongs to a later session about **classes**."
   ]
  },
  {
   "cell_type": "code",
   "execution_count": 27,
   "metadata": {},
   "outputs": [
    {
     "data": {
      "text/plain": [
       "11"
      ]
     },
     "execution_count": 27,
     "metadata": {},
     "output_type": "execute_result"
    }
   ],
   "source": [
    "def outside_function(x, y):\n",
    "    def inside_function(x, y):\n",
    "        return x + y\n",
    "    \n",
    "    return inside_function(x, y)\n",
    "\n",
    "outside_function(7,4)"
   ]
  },
  {
   "cell_type": "code",
   "execution_count": 28,
   "metadata": {},
   "outputs": [
    {
     "ename": "NameError",
     "evalue": "name 'inside_function' is not defined",
     "output_type": "error",
     "traceback": [
      "\u001b[0;31m---------------------------------------------------------------------------\u001b[0m",
      "\u001b[0;31mNameError\u001b[0m                                 Traceback (most recent call last)",
      "\u001b[0;32m<ipython-input-28-158045f32788>\u001b[0m in \u001b[0;36m<module>\u001b[0;34m\u001b[0m\n\u001b[0;32m----> 1\u001b[0;31m \u001b[0minside_function\u001b[0m\u001b[0;34m(\u001b[0m\u001b[0;36m7\u001b[0m\u001b[0;34m,\u001b[0m\u001b[0;36m4\u001b[0m\u001b[0;34m)\u001b[0m\u001b[0;34m\u001b[0m\u001b[0;34m\u001b[0m\u001b[0m\n\u001b[0m",
      "\u001b[0;31mNameError\u001b[0m: name 'inside_function' is not defined"
     ]
    }
   ],
   "source": [
    "inside_function(7,4)"
   ]
  },
  {
   "cell_type": "markdown",
   "metadata": {},
   "source": [
    "## Recursion\n",
    "\n",
    ">Q: How do I explain recursion to a 4 year-old?<br>\n",
    "><br>\n",
    ">A: Explain it to someone a year younger than you & ask them to do the same.\n",
    "\n",
    "Recursion is a topic on its own and this is only a brief introduction. Functions can be **recursive** which means that they can call themselve from inside themselve."
   ]
  },
  {
   "cell_type": "code",
   "execution_count": 22,
   "metadata": {},
   "outputs": [
    {
     "name": "stdout",
     "output_type": "stream",
     "text": [
      "[4, 7, 10]\n",
      "21\n"
     ]
    }
   ],
   "source": [
    "numbers = [x for x in range(4, 11, 3)]\n",
    "print(numbers)\n",
    "\n",
    "def add_recursive(numbers):\n",
    "    if len(numbers) == 1:\n",
    "        return numbers[0]\n",
    "    else:\n",
    "        return numbers[0] + add_recursive(numbers[1:])\n",
    "    \n",
    "summed = add_recursive(numbers)\n",
    "print(summed)"
   ]
  },
  {
   "cell_type": "code",
   "execution_count": 24,
   "metadata": {},
   "outputs": [
    {
     "name": "stdout",
     "output_type": "stream",
     "text": [
      "[4, 7, 10]\n",
      "21\n"
     ]
    }
   ],
   "source": [
    "numbers = [x for x in range(4, 11, 3)]\n",
    "print(numbers)\n",
    "\n",
    "def add_recursive(numbers):\n",
    "    if len(numbers) == 1:\n",
    "        return numbers.pop()\n",
    "    else:\n",
    "        numbers[0] += numbers.pop()\n",
    "        return add_recursive(numbers)\n",
    "    \n",
    "summed = add_recursive(numbers)\n",
    "print(summed)"
   ]
  }
 ],
 "metadata": {
  "kernelspec": {
   "display_name": "Python 3",
   "language": "python",
   "name": "python3"
  },
  "language_info": {
   "codemirror_mode": {
    "name": "ipython",
    "version": 3
   },
   "file_extension": ".py",
   "mimetype": "text/x-python",
   "name": "python",
   "nbconvert_exporter": "python",
   "pygments_lexer": "ipython3",
   "version": "3.9.7"
  }
 },
 "nbformat": 4,
 "nbformat_minor": 4
}
