{
 "cells": [
  {
   "cell_type": "markdown",
   "metadata": {},
   "source": [
    "# Programmed books 3"
   ]
  },
  {
   "cell_type": "markdown",
   "metadata": {},
   "source": [
    "## Summing pages"
   ]
  },
  {
   "cell_type": "code",
   "execution_count": 62,
   "metadata": {},
   "outputs": [],
   "source": [
    "from fpdf import FPDF"
   ]
  },
  {
   "cell_type": "markdown",
   "metadata": {},
   "source": [
    "### Setup"
   ]
  },
  {
   "cell_type": "code",
   "execution_count": 152,
   "metadata": {},
   "outputs": [],
   "source": [
    "pdf = FPDF('P', 'mm', format=(200,210) )\n",
    "pdf.set_margins(left=10, top=10, right=10)\n",
    "pdf.set_font('Helvetica')"
   ]
  },
  {
   "cell_type": "markdown",
   "metadata": {},
   "source": [
    "### Title Page"
   ]
  },
  {
   "cell_type": "code",
   "execution_count": 153,
   "metadata": {},
   "outputs": [
    {
     "data": {
      "text/plain": [
       "False"
      ]
     },
     "execution_count": 153,
     "metadata": {},
     "output_type": "execute_result"
    }
   ],
   "source": [
    "pdf.add_page()\n",
    "pdf.set_font_size(40)\n",
    "pdf.ln(50)\n",
    "pdf.multi_cell(185, None, txt='Summing pages', align='C')"
   ]
  },
  {
   "cell_type": "markdown",
   "metadata": {},
   "source": [
    "### Summing pages\n",
    "\n",
    "Sum up pages starting with 2."
   ]
  },
  {
   "cell_type": "code",
   "execution_count": 154,
   "metadata": {},
   "outputs": [],
   "source": [
    "pdf.set_font_size(30)\n",
    "\n",
    "calculation = '1' # Stores the calculation.\n",
    "ln = 135 # Ln adapts to length of calculation.\n",
    "\n",
    "for page_number in range(2,101):\n",
    "    pdf.add_page()\n",
    "    \n",
    "    # reduce ln on 11, 21, 31, ...\n",
    "    if (page_number -1) % 10 == 0:\n",
    "        # reduce line feed\n",
    "        ln -= 15\n",
    "    pdf.ln(ln)\n",
    "\n",
    "    # Add 1.\n",
    "    calculation += ' + 1'\n",
    "\n",
    "    # Add equal sign and result (page_number)\n",
    "    txt = calculation + '\\n=\\n' + str(page_number)\n",
    "\n",
    "    pdf.multi_cell(w=0, h=15, txt=txt, align='C')"
   ]
  },
  {
   "cell_type": "markdown",
   "metadata": {},
   "source": [
    "### Save PDF"
   ]
  },
  {
   "cell_type": "code",
   "execution_count": 155,
   "metadata": {},
   "outputs": [],
   "source": [
    "filename = 'generated_pdfs/004.pdf'\n",
    "pdf.output(filename) "
   ]
  },
  {
   "cell_type": "markdown",
   "metadata": {},
   "source": [
    "<a href='pdf/004.pdf' target=\"_blank\">View PDF</a>\n",
    "<br>\n",
    "<br>\n",
    "![004.gif](images/004.gif)"
   ]
  },
  {
   "cell_type": "markdown",
   "metadata": {},
   "source": [
    "<br><br>\n",
    "\n",
    "## Custom fonts\n",
    "\n",
    "In order to run the code below you'll need a folder named `fonts` in the directory of this notebook. You can download a folder with example fonts [here](https://cloud.uni-weimar.de/s/geN82QcJabJNqq8)."
   ]
  },
  {
   "cell_type": "code",
   "execution_count": null,
   "metadata": {},
   "outputs": [],
   "source": [
    "from fpdf import FPDF\n",
    "import os\n",
    "\n",
    "''' Create FPDF object. '''\n",
    "pdf = FPDF('L', 'mm', format='A5')\n",
    "pdf.set_margins(left=20, top=15, right=20)\n",
    "\n",
    "\n",
    "''' Create a list of available fonts. '''\n",
    "\n",
    "# Get names of all files in a directory.\n",
    "fonts = os.listdir('fonts')\n",
    "\n",
    "# Reduce list to files ending with .ttf\n",
    "fonts = [font for font in fonts if font.endswith('.ttf')]\n",
    "\n",
    "\n",
    "''' Render text in different fonts. '''\n",
    "\n",
    "pdf.add_page()\n",
    "\n",
    "# Loop through list of fonts.\n",
    "for font in fonts:\n",
    "    \n",
    "    # Extract font name.\n",
    "    font_name = font.removesuffix('.ttf')\n",
    "    font_path = 'fonts/' + font\n",
    "    txt = 'The quick brown fox jumps over the lazy dog.'\n",
    "    # Append font name to the text.\n",
    "    txt += '\\n(' + font_name + ')'\n",
    "    \n",
    "    # Add font to FPDF.\n",
    "    pdf.add_font(font_name, '', font_path, uni=True)\n",
    "    pdf.set_font(font_name)\n",
    "    pdf.set_font_size(14)\n",
    "    \n",
    "    # Add text with that font.\n",
    "    pdf.multi_cell(w=0, h=7, txt=txt, align='L')\n",
    "    pdf.ln(5)\n",
    "\n",
    "\n",
    "''' Save PDF. '''\n",
    "filename = 'generated_pdfs/005.pdf'\n",
    "pdf.output(filename)"
   ]
  },
  {
   "cell_type": "markdown",
   "metadata": {},
   "source": [
    "<a href='pdf/005.pdf' target=\"_blank\">View PDF</a>\n",
    "<br>\n",
    "<br>\n",
    "![005.jpg](images/005.jpg)"
   ]
  },
  {
   "cell_type": "markdown",
   "metadata": {},
   "source": [
    "<br><br>\n",
    "\n",
    "## Read and print itself\n",
    "\n",
    "The following code reads itself and prints that code to a PDF.<br>\n",
    "It works only if executed as a Python file like\n",
    "\n",
    "```shell\n",
    "python3 006.py # if the code is saved as 006.py\n",
    "```\n",
    ", not as a Jupyter Notebook! <br>\n",
    "<br>\n",
    "006.py:\n",
    "\n",
    "```python\n",
    "from fpdf import FPDF\n",
    "import sys\n",
    "\n",
    "''' Create FPDF object. '''\n",
    "\n",
    "pdf = FPDF('P', 'mm', format='A5')\n",
    "pdf.set_margins(left=20, top=30, right=20)\n",
    "pdf.set_font('Courier', size=10)\n",
    "\n",
    "''' Print code. '''\n",
    "\n",
    "# Get the name of this Python file.\n",
    "filename = sys.argv[0]\n",
    "\n",
    "# Read this file.\n",
    "with open(filename) as f:\n",
    "    txt = f.read()\n",
    "\n",
    "pdf.add_page()\n",
    "pdf.multi_cell(0, None, txt=txt)\n",
    "\n",
    "''' Save PDF. '''\n",
    "\n",
    "filename = filename.replace('.py', '.pdf')\n",
    "pdf.output('generated_pdfs/' + filename)\n",
    "```"
   ]
  },
  {
   "cell_type": "markdown",
   "metadata": {},
   "source": [
    "<a href='pdf/006.pdf' target=\"_blank\">View PDF</a>\n",
    "<br>\n",
    "<br>\n",
    "![006.jpg](images/006.jpg)"
   ]
  }
 ],
 "metadata": {
  "kernelspec": {
   "display_name": "Python 3",
   "language": "python",
   "name": "python3"
  },
  "language_info": {
   "codemirror_mode": {
    "name": "ipython",
    "version": 3
   },
   "file_extension": ".py",
   "mimetype": "text/x-python",
   "name": "python",
   "nbconvert_exporter": "python",
   "pygments_lexer": "ipython3",
   "version": "3.9.7"
  }
 },
 "nbformat": 4,
 "nbformat_minor": 4
}
