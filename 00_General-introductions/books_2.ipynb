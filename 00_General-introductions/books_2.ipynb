{
 "cells": [
  {
   "cell_type": "markdown",
   "metadata": {},
   "source": [
    "# Programmed books 2\n",
    "\n",
    "## Counting pages"
   ]
  },
  {
   "cell_type": "code",
   "execution_count": null,
   "metadata": {},
   "outputs": [],
   "source": [
    "from fpdf import FPDF\n",
    "\n",
    "''' Create FPDF object. '''\n",
    "pdf = FPDF('P', 'mm', format='A5')\n",
    "pdf.set_margins(left=20, top=30, right=20)\n",
    "pdf.set_font('Helvetica')\n",
    "\n",
    "''' Title page. '''\n",
    "pdf.add_page()\n",
    "pdf.set_font_size(40)\n",
    "pdf.multi_cell(0, None, txt='Counting pages', align='C')\n",
    "    \n",
    "\n",
    "''' Count pages starting with 2. '''\n",
    "pdf.set_font('Courier')\n",
    "pdf.set_font_size(20)\n",
    "for page_number in range(2,10):\n",
    "    pdf.add_page()\n",
    "    pdf.ln(150)\n",
    "    pdf.multi_cell(0, None, txt=str(page_number), align='C')\n",
    "\n",
    "''' Save PDF. '''\n",
    "filename = 'generated_pdfs/002.pdf'\n",
    "pdf.output(filename) "
   ]
  },
  {
   "cell_type": "markdown",
   "metadata": {},
   "source": [
    "<a href='pdf/002.pdf' target=\"_blank\">View PDF</a>\n",
    "<br>\n",
    "<br>\n",
    "![002.gif](images/002.gif)"
   ]
  },
  {
   "cell_type": "markdown",
   "metadata": {},
   "source": [
    "## Increasing font size"
   ]
  },
  {
   "cell_type": "code",
   "execution_count": null,
   "metadata": {},
   "outputs": [],
   "source": [
    "from fpdf import FPDF\n",
    "\n",
    "''' Create FPDF object. '''\n",
    "pdf = FPDF('P', 'mm', format='A5')\n",
    "pdf.set_margins(left=20, top=30, right=20)\n",
    "pdf.set_font('Times')\n",
    "\n",
    "''' Title page. '''\n",
    "pdf.add_page()\n",
    "pdf.set_font_size(40)\n",
    "txt = '''Increasing\n",
    "font size'''\n",
    "pdf.multi_cell(0, None, txt=txt, align='C')\n",
    "\n",
    "\n",
    "''' Increase font size. '''\n",
    "for page_number in range(2,101):\n",
    "    pdf.add_page()\n",
    "    pdf.ln(150)\n",
    "    pdf.set_font_size(page_number)\n",
    "    txt = str(page_number)\n",
    "    pdf.multi_cell(0, 0, txt=txt, align='R')\n",
    "\n",
    "''' Save PDF. '''\n",
    "filename = 'generated_pdfs/003.pdf'\n",
    "pdf.output(filename)\n"
   ]
  },
  {
   "cell_type": "markdown",
   "metadata": {},
   "source": [
    "<a href='pdf/003.pdf' target=\"_blank\">View PDF</a>\n",
    "<br>\n",
    "<br>\n",
    "![003.gif](images/003.gif)"
   ]
  }
 ],
 "metadata": {
  "kernelspec": {
   "display_name": "Python 3",
   "language": "python",
   "name": "python3"
  },
  "language_info": {
   "codemirror_mode": {
    "name": "ipython",
    "version": 3
   },
   "file_extension": ".py",
   "mimetype": "text/x-python",
   "name": "python",
   "nbconvert_exporter": "python",
   "pygments_lexer": "ipython3",
   "version": "3.9.7"
  }
 },
 "nbformat": 4,
 "nbformat_minor": 4
}
