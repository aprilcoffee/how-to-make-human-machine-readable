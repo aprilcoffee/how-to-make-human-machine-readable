{
 "cells": [
  {
   "cell_type": "markdown",
   "metadata": {},
   "source": [
    "# First book\n",
    "\n",
    "Recommendation: Write the code in a Python file (a **plain text** file with the file ending <code>.py</code>) instead of working inside the Jupyter Notebook. (See the chapter *Programs are text (files)* from the previous chapter.)\n",
    "\n",
    "## Setup\n",
    "\n",
    "First we have to install the **library** [fpdf](https://pypi.org/project/fpdf/). A library is additional code that we can use for our program. It's like an extension to the built-in functionality of a programming language.\n",
    "\n",
    "Unfortunately fpdf it is not available through the conda package manager, so we have to use the default python package installer <code>pip</code>.\n",
    "\n",
    "The following instructions are from this post: https://stackoverflow.com/a/43729857\n",
    "\n",
    "First install pip with conda:\n",
    "\n",
    "```shell\n",
    "conda activate name_of_your_environment\n",
    "\n",
    "conda install pip\n",
    "```\n",
    "\n",
    "Next we will explicitly use this pip version to install the required library:\n",
    "\n",
    "``` shell\n",
    "# Get the location of your environment:\n",
    "conda env list\n",
    "```\n",
    "\n",
    "This returns for example:\n",
    "\n",
    "```\n",
    "base                     /home/username/miniconda3\n",
    "pbwp                  *  /home/username/miniconda3/envs/pbwp\n",
    "```\n",
    "\n",
    "The environment with * is the active environment.\n",
    "\n",
    "To call pip inside this environment, we have to add ```/bin/pip``` to the path.\n",
    "\n",
    "The command looks like this:\n",
    "\n",
    "```shell\n",
    "miniconda3/envs/pbwp/bin/pip install fpdf2\n",
    "```\n",
    "\n",
    "\n",
    "\n",
    "\n",
    "[Documentation of fpdf2](https://pyfpdf.github.io/fpdf2//)"
   ]
  },
  {
   "cell_type": "markdown",
   "metadata": {},
   "source": [
    "## Import library"
   ]
  },
  {
   "cell_type": "code",
   "execution_count": 6,
   "metadata": {},
   "outputs": [],
   "source": [
    "from fpdf import FPDF"
   ]
  },
  {
   "cell_type": "markdown",
   "metadata": {},
   "source": [
    "## Create an FPDF object\n",
    "\n",
    "Next we will create an object which holds all the data of our PDF. Furthermore this object has built-in methods which help us define and create our PDF."
   ]
  },
  {
   "cell_type": "code",
   "execution_count": 7,
   "metadata": {},
   "outputs": [],
   "source": [
    "pdf = FPDF('P', 'mm', format='A5')"
   ]
  },
  {
   "cell_type": "markdown",
   "metadata": {},
   "source": [
    "From the documentation:\n",
    "\n",
    "> By default, a FPDF document has a A4 format with portrait orientation.\n",
    ">\n",
    "> Other formats & orientation can be specified to FPDF constructor:\n",
    ">\n",
    "> pdf = fpdf.FPDF(orientation=\"landscape\", format=\"A5\")\n",
    ">\n",
    "> Currently supported formats are a3, a4, a5, letter, legal or a tuple (width, height). Additional standard formats are welcome and can be suggested through pull requests."
   ]
  },
  {
   "cell_type": "markdown",
   "metadata": {},
   "source": [
    "## Create content in/ with this object"
   ]
  },
  {
   "cell_type": "markdown",
   "metadata": {},
   "source": [
    "First we have to add an empty page to our FPDF object:"
   ]
  },
  {
   "cell_type": "code",
   "execution_count": 8,
   "metadata": {},
   "outputs": [],
   "source": [
    "# Add an empty page.\n",
    "pdf.add_page()"
   ]
  },
  {
   "cell_type": "markdown",
   "metadata": {},
   "source": [
    "<br>\n",
    "Before we can add text, we have to define a font and a font size:"
   ]
  },
  {
   "cell_type": "code",
   "execution_count": 9,
   "metadata": {},
   "outputs": [],
   "source": [
    "# Set a font and font size.\n",
    "pdf.set_font('Courier') # Standard fonts: Courier, Helvetica & Times.\n",
    "pdf.set_font_size(11)"
   ]
  },
  {
   "cell_type": "markdown",
   "metadata": {},
   "source": [
    "<br>\n",
    "We'll use a text field called <code>multi-cell</code> to insert text.<br>\n",
    "The method <code>multi-cell</code> takes several arguments which define the field and its content:\n",
    "\n",
    "- w = cell width. If 0, they extend up to the right margin of the page.\n",
    "- h = cell height. Default value: None, meaning to use the current font size.\n",
    "- txt = string (text) to print."
   ]
  },
  {
   "cell_type": "code",
   "execution_count": 10,
   "metadata": {},
   "outputs": [
    {
     "data": {
      "text/plain": [
       "False"
      ]
     },
     "execution_count": 10,
     "metadata": {},
     "output_type": "execute_result"
    }
   ],
   "source": [
    "# Add a text field.\n",
    "pdf.multi_cell(w=0, h=None, txt='My first programmed PDF.')"
   ]
  },
  {
   "cell_type": "markdown",
   "metadata": {},
   "source": [
    "### Export PDF\n",
    "\n",
    "First we will create a subfolder inside the folder where this code is stored. The name + <code>/</code> of the folder is stored in the variable called <code>path</code> below."
   ]
  },
  {
   "cell_type": "code",
   "execution_count": 11,
   "metadata": {},
   "outputs": [],
   "source": [
    "path = 'generated_pdfs/' # Make sure to create the specific folder in advance.\n",
    "filename = '001.pdf'\n",
    "pdf.output(path + filename)"
   ]
  },
  {
   "cell_type": "code",
   "execution_count": null,
   "metadata": {},
   "outputs": [],
   "source": [
    "%%html\n",
    "<style>\n",
    "// add your CSS styling here\n",
    "</style>"
   ]
  },
  {
   "cell_type": "markdown",
   "metadata": {},
   "source": [
    "## Result\n",
    "\n",
    "<a href='pdf/001.pdf' target=\"_blank\">View PDF</a>\n",
    "<br>\n",
    "<br>\n",
    "![001.png](images/001.png)"
   ]
  }
 ],
 "metadata": {
  "kernelspec": {
   "display_name": "Python 3",
   "language": "python",
   "name": "python3"
  },
  "language_info": {
   "codemirror_mode": {
    "name": "ipython",
    "version": 3
   },
   "file_extension": ".py",
   "mimetype": "text/x-python",
   "name": "python",
   "nbconvert_exporter": "python",
   "pygments_lexer": "ipython3",
   "version": "3.9.7"
  }
 },
 "nbformat": 4,
 "nbformat_minor": 4
}
