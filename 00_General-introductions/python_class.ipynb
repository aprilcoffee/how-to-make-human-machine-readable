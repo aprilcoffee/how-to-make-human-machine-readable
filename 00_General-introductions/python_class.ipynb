{
 "cells": [
  {
   "cell_type": "markdown",
   "id": "96ca4657-e93d-4b8d-90c5-0ee889710029",
   "metadata": {},
   "source": [
    "# Python: Class / OOP"
   ]
  },
  {
   "cell_type": "markdown",
   "id": "9ce74c81-0e4a-4ac3-ae8a-38da0de38cbf",
   "metadata": {},
   "source": [
    "OOP stands for **object oriented programming**. \n",
    "\n",
    "- we can store data (attributes) and methods inside an object\n",
    "- we can create numerous instances of the same object, but all are independent\n",
    "\n",
    "## Creating a class\n",
    "\n",
    "An object is an instance of a class, which is something like a blueprint for that object.<br>\n",
    "A class is defined with the keyword `class` followed by a name of your choice (like names for variables and methods).<br>\n",
    "A class consists of at least one method called `__init__`. It's executed when a new object of that class is created.<br>\n",
    "Typically a class holds data, which can be inserted when an instance is created."
   ]
  },
  {
   "cell_type": "code",
   "execution_count": 1,
   "id": "8d52f037-58f5-4575-810b-8872fcfb6666",
   "metadata": {},
   "outputs": [],
   "source": [
    "class custom_class:\n",
    "    def __init__(self, param1, param2):\n",
    "        # self refers to the object itself, the parameters to additional data\n",
    "        self.param1 = param1 # create an internal variable param1 and assign the value param1 (from the outside) to it\n",
    "        self.param2 = param2\n",
    "        local_variable = (119, 201, 170) # without self it's a local variable, which can't be accessed from outside"
   ]
  },
  {
   "cell_type": "markdown",
   "id": "c7e457db-6eec-446f-a9c4-82828add753f",
   "metadata": {},
   "source": [
    "## Create instances of that class\n",
    "\n",
    "A new object is created through calling the class like a function and assign this to a variable."
   ]
  },
  {
   "cell_type": "code",
   "execution_count": 2,
   "id": "97569b38-f2ee-4c0d-8a2f-ca7a50aeeb30",
   "metadata": {},
   "outputs": [],
   "source": [
    "a = custom_class(1, 4)"
   ]
  },
  {
   "cell_type": "code",
   "execution_count": 3,
   "id": "21a56a0c-1d97-4d36-b65d-e96ffcbc393f",
   "metadata": {},
   "outputs": [],
   "source": [
    "# Another instance of that class. This does not affect the object a.\n",
    "b = custom_class('hello', ' world!')"
   ]
  },
  {
   "cell_type": "markdown",
   "id": "442b0e56-8e30-4f53-9ecf-ae86079949ac",
   "metadata": {},
   "source": [
    "It's possible to access data inside the class with the `.` notation:"
   ]
  },
  {
   "cell_type": "code",
   "execution_count": 4,
   "id": "97a8ccbd-8119-42ea-9357-b3194ddc9479",
   "metadata": {},
   "outputs": [
    {
     "data": {
      "text/plain": [
       "1"
      ]
     },
     "execution_count": 4,
     "metadata": {},
     "output_type": "execute_result"
    }
   ],
   "source": [
    "a.param1"
   ]
  },
  {
   "cell_type": "code",
   "execution_count": 5,
   "id": "ccf8c37e-b19c-4026-b151-5940a5c93523",
   "metadata": {},
   "outputs": [
    {
     "data": {
      "text/plain": [
       "' world!'"
      ]
     },
     "execution_count": 5,
     "metadata": {},
     "output_type": "execute_result"
    }
   ],
   "source": [
    "b.param2"
   ]
  },
  {
   "cell_type": "markdown",
   "id": "599e71f5-afda-4b4a-a432-1b88c5e26999",
   "metadata": {},
   "source": [
    "It's possible to change the values with the same notation:"
   ]
  },
  {
   "cell_type": "code",
   "execution_count": 6,
   "id": "680e5fda-7777-421e-93d2-747fed3d435a",
   "metadata": {},
   "outputs": [
    {
     "data": {
      "text/plain": [
       "-1"
      ]
     },
     "execution_count": 6,
     "metadata": {},
     "output_type": "execute_result"
    }
   ],
   "source": [
    "a.param1 = -1 # override param1\n",
    "a.param1"
   ]
  },
  {
   "cell_type": "code",
   "execution_count": 7,
   "id": "a02aaa1a-8973-4abc-a0d7-c2301a354fbe",
   "metadata": {},
   "outputs": [
    {
     "ename": "AttributeError",
     "evalue": "'custom_class' object has no attribute 'local_variable'",
     "output_type": "error",
     "traceback": [
      "\u001b[0;31m---------------------------------------------------------------------------\u001b[0m",
      "\u001b[0;31mAttributeError\u001b[0m                            Traceback (most recent call last)",
      "\u001b[0;32m/tmp/ipykernel_2832/2981977348.py\u001b[0m in \u001b[0;36m<module>\u001b[0;34m\u001b[0m\n\u001b[1;32m      1\u001b[0m \u001b[0;31m# Local variables can't be accessed from outside:\u001b[0m\u001b[0;34m\u001b[0m\u001b[0;34m\u001b[0m\u001b[0m\n\u001b[0;32m----> 2\u001b[0;31m \u001b[0ma\u001b[0m\u001b[0;34m.\u001b[0m\u001b[0mlocal_variable\u001b[0m\u001b[0;34m\u001b[0m\u001b[0;34m\u001b[0m\u001b[0m\n\u001b[0m",
      "\u001b[0;31mAttributeError\u001b[0m: 'custom_class' object has no attribute 'local_variable'"
     ]
    }
   ],
   "source": [
    "# Local variables can't be accessed from outside:\n",
    "a.local_variable"
   ]
  },
  {
   "cell_type": "markdown",
   "id": "02f73df3-03bf-43ab-83b2-4bbbb411fc79",
   "metadata": {},
   "source": [
    "## Additional internal methods\n",
    "\n",
    "Classes become powerful through internal methods:"
   ]
  },
  {
   "cell_type": "code",
   "execution_count": 8,
   "id": "29da8ef0-816c-49c5-908c-593562ca37fc",
   "metadata": {},
   "outputs": [],
   "source": [
    "class custom_class:\n",
    "    def __init__(self, param1, param2):\n",
    "        self.param1 = param1\n",
    "        self.param2 = param2\n",
    "        \n",
    "    def sum_(self):\n",
    "        '''Return the sum of the parameters.'''\n",
    "        return self.param1 + self.param2"
   ]
  },
  {
   "cell_type": "code",
   "execution_count": 9,
   "id": "52e1f096-efc5-473a-bc09-0e43bfeb1e91",
   "metadata": {},
   "outputs": [
    {
     "data": {
      "text/plain": [
       "5"
      ]
     },
     "execution_count": 9,
     "metadata": {},
     "output_type": "execute_result"
    }
   ],
   "source": [
    "# Create an instance:\n",
    "a = custom_class(1, 4)\n",
    "\n",
    "# Call the method sum_\n",
    "a.sum_()"
   ]
  },
  {
   "cell_type": "code",
   "execution_count": 10,
   "id": "cff18842-83a4-479c-85ce-073e3c6c7263",
   "metadata": {},
   "outputs": [
    {
     "data": {
      "text/plain": [
       "'hello world!'"
      ]
     },
     "execution_count": 10,
     "metadata": {},
     "output_type": "execute_result"
    }
   ],
   "source": [
    "b = custom_class('hello', ' world!')\n",
    "b.sum_()"
   ]
  },
  {
   "cell_type": "markdown",
   "id": "f5843c46-b020-4354-8b72-401100f4ccf3",
   "metadata": {},
   "source": [
    "### \\_\\_str\\_\\_(self)"
   ]
  },
  {
   "cell_type": "markdown",
   "id": "4a819164-ac21-4809-bbb9-25a0a977bfe0",
   "metadata": {},
   "source": [
    "A well defined class should return meaningful output when we call the print function on it:"
   ]
  },
  {
   "cell_type": "code",
   "execution_count": 11,
   "id": "32681438-f54d-435f-85e4-a207eb4f9223",
   "metadata": {},
   "outputs": [
    {
     "name": "stdout",
     "output_type": "stream",
     "text": [
      "<__main__.custom_class object at 0x7f159c7b4940>\n"
     ]
    }
   ],
   "source": [
    "print(b)"
   ]
  },
  {
   "cell_type": "markdown",
   "id": "16eae3ee-3fe9-4e32-894f-3891c29bac25",
   "metadata": {},
   "source": [
    "This is not yet meaningful. We have to define the output through a internal method called `__str__`, which is called when the object is inserted into the `print()` function."
   ]
  },
  {
   "cell_type": "code",
   "execution_count": 12,
   "id": "e0deb47e-462e-4ed1-9452-d5584dd0a5c6",
   "metadata": {},
   "outputs": [],
   "source": [
    "class custom_class:\n",
    "    def __init__(self, param1, param2):\n",
    "        self.param1 = param1\n",
    "        self.param2 = param2\n",
    "        \n",
    "    def __str__(self):\n",
    "        ''' __str__ is called when you convert an object into\n",
    "        a string (through print(), str()).'''\n",
    "        return f'{self.param1}, {self.param2}'\n",
    "        \n",
    "    def sum_(self):\n",
    "        '''Return the sum of the parameters.'''\n",
    "        return self.param1 + self.param2"
   ]
  },
  {
   "cell_type": "code",
   "execution_count": 13,
   "id": "5205aece-c5a7-4d37-96da-43ac0e4c9052",
   "metadata": {},
   "outputs": [
    {
     "name": "stdout",
     "output_type": "stream",
     "text": [
      "hello,  world!\n"
     ]
    }
   ],
   "source": [
    "b = custom_class('hello', ' world!')\n",
    "print(b)"
   ]
  },
  {
   "cell_type": "code",
   "execution_count": 14,
   "id": "f9729a50-48bf-41fd-a4c2-763989fd9da6",
   "metadata": {},
   "outputs": [
    {
     "data": {
      "text/plain": [
       "'hello,  world!'"
      ]
     },
     "execution_count": 14,
     "metadata": {},
     "output_type": "execute_result"
    }
   ],
   "source": [
    "str(b)"
   ]
  },
  {
   "cell_type": "markdown",
   "id": "ed24e077-0bdc-4ebc-9a38-395badbf3e55",
   "metadata": {},
   "source": [
    "### \\_\\_repr\\_\\_(self)\n",
    "\n",
    "Optional we could define a method called `__repr__`:"
   ]
  },
  {
   "cell_type": "code",
   "execution_count": 16,
   "id": "e5d48e6b-9d62-4261-96e0-f95aa97497ef",
   "metadata": {},
   "outputs": [],
   "source": [
    "class custom_class:\n",
    "    '''A custom class for ...'''\n",
    "    \n",
    "    def __init__(self, param1, param2):\n",
    "        self.param1 = param1\n",
    "        self.param2 = param2\n",
    "        \n",
    "    def __str__(self):\n",
    "        ''' __str__ is called when you convert an object into\n",
    "        a string (through print(), str()).'''\n",
    "        return f'{self.param1}, {self.param2}'\n",
    "    \n",
    "    def __repr__(self):\n",
    "        '''Used for a more elaborate output (for debugging).'''\n",
    "        return (f'{self.__class__.__name__}('\n",
    "                f'{self.param1!r}, {self.param2!r})')\n",
    "        \n",
    "    def sum_(self):\n",
    "        '''Return the sum of the parameters.'''\n",
    "        return self.param1 + self.param2"
   ]
  },
  {
   "cell_type": "code",
   "execution_count": 18,
   "id": "1c11fa5a-fb76-463f-9f2c-f84a328259aa",
   "metadata": {},
   "outputs": [
    {
     "name": "stdout",
     "output_type": "stream",
     "text": [
      "hello,  world!\n",
      "custom_class('hello', ' world!')\n"
     ]
    }
   ],
   "source": [
    "b = custom_class('hello', ' world!')\n",
    "print(b)\n",
    "print(repr(b))"
   ]
  },
  {
   "cell_type": "markdown",
   "id": "bb6931a1-d037-4a68-8693-eb718df0743b",
   "metadata": {},
   "source": [
    "### \\_\\_doc\\_\\_"
   ]
  },
  {
   "cell_type": "markdown",
   "id": "39c8a877-01d1-4613-a409-a2bcbd263179",
   "metadata": {},
   "source": [
    "The **docstring** of functions is accessible through the method `__doc__`:"
   ]
  },
  {
   "cell_type": "code",
   "execution_count": 20,
   "id": "391fd88e-f4f8-4da9-a5eb-ba6d21d5bc9e",
   "metadata": {},
   "outputs": [
    {
     "data": {
      "text/plain": [
       "'A custom class for ...'"
      ]
     },
     "execution_count": 20,
     "metadata": {},
     "output_type": "execute_result"
    }
   ],
   "source": [
    "custom_class.__doc__"
   ]
  },
  {
   "cell_type": "code",
   "execution_count": 19,
   "id": "3cba1da1-7874-40d9-948c-3b0ca979e2ee",
   "metadata": {},
   "outputs": [
    {
     "data": {
      "text/plain": [
       "'Return the sum of the parameters.'"
      ]
     },
     "execution_count": 19,
     "metadata": {},
     "output_type": "execute_result"
    }
   ],
   "source": [
    "custom_class.sum_.__doc__"
   ]
  },
  {
   "cell_type": "code",
   "execution_count": 20,
   "id": "8e2df328-23c7-4f7c-80a7-bc17d04a6f2d",
   "metadata": {},
   "outputs": [
    {
     "data": {
      "text/plain": [
       "'Return the sum of the parameters.'"
      ]
     },
     "execution_count": 20,
     "metadata": {},
     "output_type": "execute_result"
    }
   ],
   "source": [
    "# It's possible to call the methods through instances of the class as well:\n",
    "b.sum_.__doc__"
   ]
  },
  {
   "cell_type": "markdown",
   "id": "f5355b87-0dc9-4172-9988-edb29acf21a2",
   "metadata": {},
   "source": [
    "You can inspect more methods through `dir()`:"
   ]
  },
  {
   "cell_type": "code",
   "execution_count": 22,
   "id": "616b1dd9-7b34-4ea6-a610-d5362513d4c5",
   "metadata": {},
   "outputs": [
    {
     "data": {
      "text/plain": [
       "['__class__',\n",
       " '__delattr__',\n",
       " '__dict__',\n",
       " '__dir__',\n",
       " '__doc__',\n",
       " '__eq__',\n",
       " '__format__',\n",
       " '__ge__',\n",
       " '__getattribute__',\n",
       " '__gt__',\n",
       " '__hash__',\n",
       " '__init__',\n",
       " '__init_subclass__',\n",
       " '__le__',\n",
       " '__lt__',\n",
       " '__module__',\n",
       " '__ne__',\n",
       " '__new__',\n",
       " '__reduce__',\n",
       " '__reduce_ex__',\n",
       " '__repr__',\n",
       " '__setattr__',\n",
       " '__sizeof__',\n",
       " '__str__',\n",
       " '__subclasshook__',\n",
       " '__weakref__',\n",
       " 'sum_']"
      ]
     },
     "execution_count": 22,
     "metadata": {},
     "output_type": "execute_result"
    }
   ],
   "source": [
    "dir(custom_class)"
   ]
  },
  {
   "cell_type": "markdown",
   "id": "20ea94e9-6f6e-4e36-9861-7ed777acb9d1",
   "metadata": {},
   "source": [
    "## When are classes useful?\n",
    "\n",
    "If you need to use the same object (data) multiple times or if you need multiple instances of the same object\n",
    "\n",
    "For example fpdf makes use of classes and when we create a `FPDF()`, we create one instance of the class `FPDF()`. Then this instance is used through the whole programm. It has a lot of own functions like `add_page()`, `set_font()` etc. and it stores all the data that we put into it.<br>"
   ]
  },
  {
   "cell_type": "markdown",
   "id": "31024439-25f6-485f-b0cf-cb966bf9df97",
   "metadata": {},
   "source": [
    "## Markov class\n",
    "\n",
    "In the following use case we'll define a very simple (and not fully elaborated) class for generating text with a markov chain. First we'll insert a parameter to insert a text corpora into the class:"
   ]
  },
  {
   "cell_type": "code",
   "execution_count": 16,
   "id": "4f245303-015d-4def-9e1b-9fea2858d104",
   "metadata": {},
   "outputs": [],
   "source": [
    "class Markov():\n",
    "    '''Generate a text with a simple one-word based markov chain.'''\n",
    "    def __init__(self, txt):\n",
    "        self.txt = txt # Holds the text corpora"
   ]
  },
  {
   "cell_type": "code",
   "execution_count": 17,
   "id": "5ae4d5e7-aadb-4fcc-826a-b7bb8cca3d1a",
   "metadata": {},
   "outputs": [],
   "source": [
    "txt = '''The quick brown fox jumps over the lazy dog. The lazy programmer jumps over the fire fox.'''\n",
    "\n",
    "m = Markov(txt)"
   ]
  },
  {
   "cell_type": "code",
   "execution_count": 28,
   "id": "2c8e2eed-7951-4d4f-95f2-6ea8a5d35300",
   "metadata": {},
   "outputs": [
    {
     "name": "stdout",
     "output_type": "stream",
     "text": [
      "The quick brown fox jumps over the lazy dog. The lazy programmer jumps over the fire fox.\n"
     ]
    }
   ],
   "source": [
    "# Check that the text is available:\n",
    "print(m.txt)"
   ]
  },
  {
   "cell_type": "markdown",
   "id": "a19cef4b-6397-4b81-bac3-5c428b0733bf",
   "metadata": {},
   "source": [
    "Next the class needs a dictionary to hold the probabilities. This results in a clean and organized program, because we don't have to deal with the dictionary outside of the functionality of the Markov chain.<br>\n",
    "The dictionary will be created internally, so we don't need to insert a parameter for that into `__init__`:"
   ]
  },
  {
   "cell_type": "code",
   "execution_count": 29,
   "id": "4259c09b-15a7-4fca-b6db-5810b136764d",
   "metadata": {},
   "outputs": [],
   "source": [
    "class Markov():\n",
    "    '''Generate a text with a simple one-word based markov chain.'''\n",
    "    def __init__(self, txt):\n",
    "        self.txt = txt # Holds the text corpora.\n",
    "        self.dictionary = {} # Holds the dictionary for probabilities."
   ]
  },
  {
   "cell_type": "markdown",
   "id": "6aae60f0-f5f1-4b26-b9dc-e1c25eb1a774",
   "metadata": {},
   "source": [
    "Then we need a method to create that dictionary based on the text corpora:"
   ]
  },
  {
   "cell_type": "code",
   "execution_count": 30,
   "id": "4aef81fa-7d74-48b3-a1bd-7a785a9740bb",
   "metadata": {},
   "outputs": [],
   "source": [
    "class Markov():\n",
    "    '''Generate a text with a simple one-token word markov chain.'''\n",
    "    def __init__(self, txt, txt_lower=False):\n",
    "        self.txt = txt.lower() if txt_lower else txt # Holds the text corpora.\n",
    "        self.dictionary = {} # Holds the dictionary for probabilities.\n",
    "        \n",
    "    def create_dictionary(self):\n",
    "        # Split txt into a list:\n",
    "        txt = self.txt.lower().split()\n",
    "        \n",
    "        self.dictionary = {}\n",
    "        \n",
    "        for i in range(len(txt)-1):\n",
    "            \n",
    "            # The current token (i) and the next tokens (i+n) are key.\n",
    "            key = txt[i]\n",
    "\n",
    "            # The next token after the last token of key is the corresponding value.\n",
    "            value = txt[i+1]\n",
    "            \n",
    "            # First check if the key exists in the dictionary already.\n",
    "            if key in self.dictionary.keys():\n",
    "                # If yes, append the value to the list.\n",
    "                self.dictionary[key].append(value)\n",
    "\n",
    "            # Else insert the new key + the value in form of a [list].\n",
    "            else:\n",
    "                self.dictionary[key] = [value]"
   ]
  },
  {
   "cell_type": "code",
   "execution_count": 31,
   "id": "85dc372c-d338-41fc-b192-cc31c1439867",
   "metadata": {},
   "outputs": [
    {
     "data": {
      "text/plain": [
       "{'the': ['quick', 'lazy', 'lazy', 'fire'],\n",
       " 'quick': ['brown'],\n",
       " 'brown': ['fox'],\n",
       " 'fox': ['jumps'],\n",
       " 'jumps': ['over', 'over'],\n",
       " 'over': ['the', 'the'],\n",
       " 'lazy': ['dog.', 'programmer'],\n",
       " 'dog.': ['the'],\n",
       " 'programmer': ['jumps'],\n",
       " 'fire': ['fox.']}"
      ]
     },
     "execution_count": 31,
     "metadata": {},
     "output_type": "execute_result"
    }
   ],
   "source": [
    "m = Markov(txt)\n",
    "m.create_dictionary()\n",
    "m.dictionary"
   ]
  },
  {
   "cell_type": "markdown",
   "id": "a97abb36-ea2e-4d9a-95b5-423832bd4080",
   "metadata": {},
   "source": [
    "The last part is a method to generate a sentence:"
   ]
  },
  {
   "cell_type": "code",
   "execution_count": 32,
   "id": "d5b23896-063e-4491-bc2c-80af5a24759f",
   "metadata": {},
   "outputs": [],
   "source": [
    "class Markov():\n",
    "    '''Generate a text with a simple one-word based markov chain.'''\n",
    "        \n",
    "    def __init__(self, txt, txt_lower=False):    \n",
    "        self.txt = txt.lower() if txt_lower else txt # Holds the text corpora.\n",
    "        self.dictionary = {} # Holds the dictionary for probabilities.\n",
    "        \n",
    "    def create_dictionary(self):\n",
    "        # Split txt into a list:\n",
    "        txt = self.txt.lower().split()\n",
    "        \n",
    "        self.dictionary = {}\n",
    "        \n",
    "        for i in range(len(txt)-1):\n",
    "            \n",
    "            # The current token (i) and the next tokens (i+n) are key.\n",
    "            key = txt[i]\n",
    "\n",
    "            # The next token after the last token of key is the corresponding value.\n",
    "            value = txt[i+1]\n",
    "            \n",
    "            # First check if the key exists in the dictionary already.\n",
    "            if key in self.dictionary.keys():\n",
    "                # If yes, append the value to the list.\n",
    "                self.dictionary[key].append(value)\n",
    "\n",
    "            # Else insert the new key + the value in form of a [list].\n",
    "            else:\n",
    "                self.dictionary[key] = [value]\n",
    "                \n",
    "    def generate_sentence(self, inp_):\n",
    "        import random\n",
    "        # Transform input into a list\n",
    "        gen_txt = inp_.split()\n",
    "        \n",
    "        while not gen_txt[-1].endswith('.'):\n",
    "            new_token = random.choice(self.dictionary[gen_txt[-1].lower()])\n",
    "            gen_txt.append(new_token)\n",
    "            \n",
    "        # Return generated text as string:\n",
    "        return ' '.join(gen_txt)"
   ]
  },
  {
   "cell_type": "code",
   "execution_count": 33,
   "id": "3a303228-c67c-4a6a-88a7-7c562d37dd48",
   "metadata": {},
   "outputs": [
    {
     "name": "stdout",
     "output_type": "stream",
     "text": [
      "The quick brown fox jumps over the quick brown fox jumps over the lazy dog.\n"
     ]
    }
   ],
   "source": [
    "m = Markov(txt)\n",
    "m.create_dictionary()\n",
    "new_text = m.generate_sentence('The')\n",
    "print(new_text)"
   ]
  },
  {
   "cell_type": "code",
   "execution_count": 34,
   "id": "e5ca05d0-bd33-4d5e-b51f-2b218691f2fe",
   "metadata": {},
   "outputs": [
    {
     "name": "stdout",
     "output_type": "stream",
     "text": [
      "The fire fox.\n",
      "The quick brown fox jumps over the fire fox.\n",
      "The quick brown fox jumps over the quick brown fox jumps over the lazy dog.\n"
     ]
    }
   ],
   "source": [
    "for i in range(3):\n",
    "    print(m.generate_sentence('The'))"
   ]
  },
  {
   "cell_type": "markdown",
   "id": "a268581b-4e7a-45d0-86d1-e043e6c7da76",
   "metadata": {},
   "source": [
    "## Inheritance\n",
    "\n"
   ]
  },
  {
   "cell_type": "markdown",
   "id": "028f2d26-e059-430f-b1b0-5bc4cc73c912",
   "metadata": {},
   "source": [
    "The second powerful quality of OOP is **inheritance**. With that it's possible to create a new class based on an existing class, which will **inherite** all the functionality of the **parent** class and can modify it or add new functionality to it."
   ]
  },
  {
   "cell_type": "markdown",
   "id": "31150428-3236-4fca-ac56-a1ca6aed675c",
   "metadata": {},
   "source": [
    "### Extend the custom class\n",
    "\n",
    "First we'll use the custom class from above, create a **child** class from that and add a new method."
   ]
  },
  {
   "cell_type": "code",
   "execution_count": 37,
   "id": "a651a13c-06f9-45a5-91f7-1414f118ddf4",
   "metadata": {},
   "outputs": [],
   "source": [
    "class custom_class:\n",
    "    def __init__(self, param1, param2):\n",
    "        self.param1 = param1\n",
    "        self.param2 = param2\n",
    "        \n",
    "    def sum_(self):\n",
    "        '''Return the sum of the parameters.'''\n",
    "        return self.param1 + self.param2"
   ]
  },
  {
   "cell_type": "markdown",
   "id": "659df8ee-6c85-4328-8c8e-c49d45574a4c",
   "metadata": {},
   "source": [
    "Syntax for that: The parent class is inserted into the child class:"
   ]
  },
  {
   "cell_type": "code",
   "execution_count": 38,
   "id": "c2106703-6f8e-4fe3-8d4d-1644d46b4afe",
   "metadata": {},
   "outputs": [],
   "source": [
    "class child_custom_class(custom_class): # Parent class is inserted.\n",
    "    # The child class inherits all methods (like __init__()).\n",
    "    \n",
    "    # Additional (new) method:\n",
    "    def division(self):\n",
    "        '''Return a / b.'''\n",
    "        return self.param1 / self.param2"
   ]
  },
  {
   "cell_type": "markdown",
   "id": "b9968e3c-f91c-4564-b63f-7ae958629546",
   "metadata": {},
   "source": [
    "The parent class is inserted as an argument into the child class. The child class inherits everything from the parent class, so it's not necessary to write a `__init__()` function again."
   ]
  },
  {
   "cell_type": "code",
   "execution_count": 5,
   "id": "e2c88165-af41-4f47-aaf4-c45b1a0b6666",
   "metadata": {},
   "outputs": [
    {
     "name": "stdout",
     "output_type": "stream",
     "text": [
      "36\n",
      "3.0\n"
     ]
    }
   ],
   "source": [
    "c = child_custom_class(27, 9)\n",
    "print(c.sum_())\n",
    "print(c.division())"
   ]
  },
  {
   "cell_type": "markdown",
   "id": "5a70aa82-dc62-4997-8368-9ef5b07b487d",
   "metadata": {},
   "source": [
    "### Customize FPDF\n",
    "\n",
    "In the following we'll create a child class of [FPDF()](https://pyfpdf.github.io/fpdf2//fpdf/fpdf.html#fpdf.fpdf.FPDF) and add a new method to it."
   ]
  },
  {
   "cell_type": "code",
   "execution_count": 49,
   "id": "6769da4b-b911-4aa8-9357-ea22c13f329f",
   "metadata": {},
   "outputs": [],
   "source": [
    "from fpdf import FPDF\n",
    "\n",
    "class custom_FPDF(FPDF):\n",
    "    \n",
    "    def lorem(self):\n",
    "        txt = '''\n",
    "Dolorem rerum minima illum in rerum. Dolor totam qui id. Nemo voluptatem consectetur porro voluptatem quis ullam et. Totam pariatur nobis molestiae voluptas.\n",
    "\n",
    "Sed optio aspernatur eius labore et quisquam est placeat. Deleniti incidunt amet dolor et illum doloremque consectetur quidem. Laborum est officia temporibus reiciendis dolores repudiandae. Quaerat est nostrum aspernatur laborum error. Pariatur doloribus ut molestiae quo expedita modi asperiores. Et est ut dicta suscipit sed doloremque rerum.\n",
    "\n",
    "Suscipit aut saepe animi. Neque id doloremque harum ut voluptatibus. Optio et modi perspiciatis. Libero sint non dolor quia dignissimos. Et quae deserunt iusto pariatur est ipsum odit nemo. Alias sed expedita asperiores autem eaque autem.\n",
    "\n",
    "Sed inventore illo non ducimus. Iure blanditiis maxime vitae quia et reiciendis iste. Minus provident aut vero facilis.\n",
    "\n",
    "Esse magnam reiciendis est magni aut consequuntur. Earum mollitia harum minus. Fuga voluptatum ad voluptate incidunt officiis. Enim minus reprehenderit beatae deleniti adipisci.\n",
    "'''\n",
    "\n",
    "        return txt"
   ]
  },
  {
   "cell_type": "code",
   "execution_count": 50,
   "id": "78cb5050-ed60-466d-a6a5-acf272433f74",
   "metadata": {},
   "outputs": [],
   "source": [
    "pdf = custom_FPDF()\n",
    "pdf.set_font('Courier')\n",
    "pdf.set_font_size(14)\n",
    "\n",
    "pdf.add_page()\n",
    "pdf.multi_cell(0, None, txt=pdf.lorem())   \n",
    "pdf.output('custom_FDPF_lorem.pdf')"
   ]
  },
  {
   "cell_type": "markdown",
   "id": "5bae1041-dafc-4c9a-9d40-a56949b9c42b",
   "metadata": {},
   "source": [
    "We can override existing methods as well. The method `page_no()` has this code:\n",
    "\n",
    "```python\n",
    "def page_no(self):\n",
    "    \"\"\"Get the current page number\"\"\"\n",
    "    return self.page\n",
    "```\n",
    "\n",
    "We can insert and modify it inside the custom class. (Although it may be better to insert a new function for that or just calculate it when necessary.)"
   ]
  },
  {
   "cell_type": "code",
   "execution_count": 51,
   "id": "2f5ae99e-7f02-47fb-9dcf-afd9efc4969b",
   "metadata": {},
   "outputs": [],
   "source": [
    "from fpdf import FPDF\n",
    "\n",
    "class custom_FPDF(FPDF):\n",
    "    \n",
    "    def lorem(self):\n",
    "        txt = '''\n",
    "Dolorem rerum minima illum in rerum. Dolor totam qui id. Nemo voluptatem consectetur porro voluptatem quis ullam et. Totam pariatur nobis molestiae voluptas.\n",
    "\n",
    "Sed optio aspernatur eius labore et quisquam est placeat. Deleniti incidunt amet dolor et illum doloremque consectetur quidem. Laborum est officia temporibus reiciendis dolores repudiandae. Quaerat est nostrum aspernatur laborum error. Pariatur doloribus ut molestiae quo expedita modi asperiores. Et est ut dicta suscipit sed doloremque rerum.\n",
    "\n",
    "Suscipit aut saepe animi. Neque id doloremque harum ut voluptatibus. Optio et modi perspiciatis. Libero sint non dolor quia dignissimos. Et quae deserunt iusto pariatur est ipsum odit nemo. Alias sed expedita asperiores autem eaque autem.\n",
    "\n",
    "Sed inventore illo non ducimus. Iure blanditiis maxime vitae quia et reiciendis iste. Minus provident aut vero facilis.\n",
    "\n",
    "Esse magnam reiciendis est magni aut consequuntur. Earum mollitia harum minus. Fuga voluptatum ad voluptate incidunt officiis. Enim minus reprehenderit beatae deleniti adipisci.\n",
    "'''\n",
    "\n",
    "        return txt\n",
    "    \n",
    "    def page_no(self):\n",
    "        \"\"\"Get the current squared page number\"\"\"\n",
    "        return pow(2, self.page)"
   ]
  },
  {
   "cell_type": "code",
   "execution_count": 52,
   "id": "42d735ff-9642-4d1d-8d0c-a2131de4ddb9",
   "metadata": {},
   "outputs": [],
   "source": [
    "pdf = custom_FPDF()\n",
    "pdf.set_font('Courier')\n",
    "pdf.set_font_size(14)\n",
    "\n",
    "for i in range(4):\n",
    "    pdf.add_page()\n",
    "    pdf.multi_cell(0, None, txt=pdf.lorem())\n",
    "    pdf.set_y(-30)\n",
    "    pdf.cell(w=0, txt=str(pdf.page_no()), align='C')\n",
    "\n",
    "pdf.output('custom_FDPF_page_no.pdf')"
   ]
  },
  {
   "cell_type": "markdown",
   "id": "10873e24-edfd-4f6c-adff-11e8d2483cec",
   "metadata": {},
   "source": [
    "#### Multiple FPDF objects"
   ]
  },
  {
   "cell_type": "code",
   "execution_count": 53,
   "id": "efb15e70-6da9-4dff-9825-cc014eb2f423",
   "metadata": {},
   "outputs": [],
   "source": [
    "# Create 3 instances and store them in a list.\n",
    "pdfs = [custom_FPDF() for i in range(3)]"
   ]
  },
  {
   "cell_type": "code",
   "execution_count": 54,
   "id": "e77e2470-dab4-4d12-9dbf-d9e07cb805c3",
   "metadata": {},
   "outputs": [],
   "source": [
    "# Set font and font size for each.\n",
    "from random import choice, randint\n",
    "\n",
    "for pdf in pdfs:\n",
    "    pdf.set_font(choice(['Helvetica', 'Times', 'Courier', 'Symbol', 'ZapfDingbats']))\n",
    "    pdf.set_font_size(randint(10, 36))"
   ]
  },
  {
   "cell_type": "code",
   "execution_count": 55,
   "id": "667c892d-3767-41b5-b5d2-413bfe24d9e0",
   "metadata": {},
   "outputs": [],
   "source": [
    "# Outer loop:\n",
    "index = 0\n",
    "while len(pdfs) > 0:\n",
    "    \n",
    "    # Loop through pdf objects:\n",
    "    for pdf in pdfs:\n",
    "        pdf.add_page()\n",
    "        pdf.multi_cell(0, None, txt=pdf.lorem())\n",
    "        pdf.set_y(-30)\n",
    "        pdf.cell(w=0, txt=str(pdf.page_no()), align='C')\n",
    "        \n",
    "    # Finish one pdf each outer loop:\n",
    "    out = pdfs.pop()\n",
    "    out.output(f'multiple_custom_FPDFs_{index}.pdf')\n",
    "    index += 1"
   ]
  }
 ],
 "metadata": {
  "kernelspec": {
   "display_name": "Python 3",
   "language": "python",
   "name": "python3"
  },
  "language_info": {
   "codemirror_mode": {
    "name": "ipython",
    "version": 3
   },
   "file_extension": ".py",
   "mimetype": "text/x-python",
   "name": "python",
   "nbconvert_exporter": "python",
   "pygments_lexer": "ipython3",
   "version": "3.9.7"
  }
 },
 "nbformat": 4,
 "nbformat_minor": 5
}
