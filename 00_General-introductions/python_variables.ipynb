{
 "cells": [
  {
   "cell_type": "markdown",
   "metadata": {},
   "source": [
    "# Python: Variables"
   ]
  },
  {
   "cell_type": "markdown",
   "metadata": {},
   "source": [
    "## Programming = rule-based processing of symbols\n",
    "\n",
    "Which symbols do we have (in a high-level programming language)? **Numbers** and **characters**.\n",
    "\n",
    "Programming means to perform actions *on* and *with* this symbols.\n",
    "\n",
    "*on* = symbols are **operands**<br>\n",
    "*with* = symbols are **operators**\n",
    "\n",
    "That's what's called *executable text*: the code contains instructions, which are performed when we execute it. A lot of the instructions (operations) are performed on the code itself and define/ alter the program flow."
   ]
  },
  {
   "cell_type": "markdown",
   "metadata": {
    "tags": []
   },
   "source": [
    "## A spatial introduction into programming with Python\n",
    "\n",
    "Why spatial?<br>\n",
    "We are living in a spatial environment and we develop skills to act in space before we learn abstract thinking. Programming requires abstract thinking (and doing!), but has a spatial component.<br>\n",
    "<br>\n",
    "We'll try to combine abstract and spatial thinking and doing in this introduction into programming.<br>\n",
    "This means having a spatial mindset, focusing on where data is, in what structure it is stored and where it goes."
   ]
  },
  {
   "cell_type": "markdown",
   "metadata": {},
   "source": [
    "![Jacquard_loom.jpg](images/Jacquard_loom.jpg)\n",
    "\n",
    "![Hollerith_punched_card.jpg](images/Hollerith_punched_card.jpg)\n",
    "\n",
    "![punch_card_hotel_room.jpg](images/punch_card_hotel_room.jpg)\n",
    "\n",
    "![Eniac.jpg](images/Eniac.jpg)\n",
    "\n",
    "![Moog.jpg](images/Moog.jpg)\n",
    "\n",
    "![pd_addition.gif](images/pd_addition.gif) Small program in the visual programming language [Pure Data](https://puredata.info/)."
   ]
  },
  {
   "cell_type": "markdown",
   "metadata": {},
   "source": [
    "## Variables\n",
    "\n",
    "In the last example from above, the two upper boxes represent variables, meaning **placeholders for different possible values**.<br>\n",
    "Variables are a very essential element of programming.<br>\n",
    "In a text based programming language like Python we have to use text to define and identify variables.<br>\n",
    "You can imagine the name of a variable as an address and the value stored inside it as the data behind that address.<br>\n",
    "<br>\n",
    "In the following lines of code we will rebuild the program which adds two numbers from above with Python."
   ]
  },
  {
   "cell_type": "code",
   "execution_count": 13,
   "metadata": {},
   "outputs": [],
   "source": [
    "# We name the first variable \"left\" and assign the value 11 to it\n",
    "left = 11\n",
    "# The second is called \"right\" and assign the value -12 to it\n",
    "right = 22"
   ]
  },
  {
   "cell_type": "markdown",
   "metadata": {},
   "source": [
    "<div class=\"alert alert-box alert-success\">\n",
    "    An essential part of structuring a program is the line. Everything in one line belongs together: It is one statement like you would write a sentence.<br>\n",
    "    In Python there is no symbol (like a \".\" in natural language or a \";\" in many other programming languages) necessary to define the end of a statement, just go to the next line and write the next statement.\n",
    "</div>"
   ]
  },
  {
   "cell_type": "code",
   "execution_count": 1,
   "metadata": {},
   "outputs": [],
   "source": [
    "# Lines that start with a # are ignored by the python interpreter.\n",
    "# They are used to insert comments in your code to explain it to yourself and others."
   ]
  },
  {
   "cell_type": "code",
   "execution_count": 4,
   "metadata": {},
   "outputs": [],
   "source": [
    "# We can initiate multiple variables in one line of code, separated by commas:\n",
    "left, right = 11, 22"
   ]
  },
  {
   "cell_type": "markdown",
   "metadata": {},
   "source": [
    "If we execute the lines of code above, the variables `left` and `right` are *initiated*.<br>\n",
    "<div class=\"alert alert-box alert-success\">\n",
    "    Initiated variables are <i>available</i> inside our program and we can <i>access</i> them somewhere else through their name/ address.<br>\n",
    "    Imagine your program as a huge virtual space. When we execute the code <code>left, right = 11, 22</code>, we create two objects <i>in this space</i> with the corresponding names/ addresses. Each holds data, in this case the numbers <code>11</code> and <code>22</code>.\n",
    "    <br>\n",
    "    (In the beginning of programming, this space was very small, but nowadays it offers enough space for millions or billions of objects.)\n",
    "</div>"
   ]
  },
  {
   "cell_type": "markdown",
   "metadata": {},
   "source": [
    "![Variables in a virtual space](images/variables_left-right.jpg)\n",
    "\n",
    "\n",
    "If objects are available in our virtual space, we can access them. For example we can output them via a **function** called `print`.<br>\n",
    "The function searches for the object called <code>left</code> and displays its data.\n",
    "\n",
    "![Variables in a virtual space](images/variables_print.jpg)"
   ]
  },
  {
   "cell_type": "code",
   "execution_count": 5,
   "metadata": {},
   "outputs": [
    {
     "name": "stdout",
     "output_type": "stream",
     "text": [
      "11\n"
     ]
    }
   ],
   "source": [
    "print(left)"
   ]
  },
  {
   "cell_type": "markdown",
   "metadata": {},
   "source": [
    "We can **operate** on them:"
   ]
  },
  {
   "cell_type": "code",
   "execution_count": 6,
   "metadata": {},
   "outputs": [
    {
     "name": "stdout",
     "output_type": "stream",
     "text": [
      "33\n"
     ]
    }
   ],
   "source": [
    "print(left + right)"
   ]
  },
  {
   "cell_type": "markdown",
   "metadata": {},
   "source": [
    "We can create new variables to store results of operations:"
   ]
  },
  {
   "cell_type": "code",
   "execution_count": 7,
   "metadata": {},
   "outputs": [
    {
     "name": "stdout",
     "output_type": "stream",
     "text": [
      "33\n"
     ]
    }
   ],
   "source": [
    "left_and_right = left + right\n",
    "print(left_and_right)"
   ]
  },
  {
   "cell_type": "markdown",
   "metadata": {},
   "source": [
    "If we imagine this in our virtual space, it may look like this: \n",
    "\n",
    "![Variables in a virtual space](images/variables_left-and-right.jpg)\n",
    "\n",
    "A third object called <code>left_and_right</code> is being created and it holds as data the sum of the data of the other two objects."
   ]
  },
  {
   "cell_type": "markdown",
   "metadata": {},
   "source": [
    "<div class=\"alert alert-box alert-success\">\n",
    "    <b>Code is executed from top to bottom.</b> We can't access variables before we haven't created them:\n",
    "</div>"
   ]
  },
  {
   "cell_type": "code",
   "execution_count": 8,
   "metadata": {},
   "outputs": [
    {
     "ename": "NameError",
     "evalue": "name 'new_variable' is not defined",
     "output_type": "error",
     "traceback": [
      "\u001b[0;31m---------------------------------------------------------------------------\u001b[0m",
      "\u001b[0;31mNameError\u001b[0m                                 Traceback (most recent call last)",
      "\u001b[0;32m/tmp/ipykernel_14042/484762712.py\u001b[0m in \u001b[0;36m<module>\u001b[0;34m\u001b[0m\n\u001b[0;32m----> 1\u001b[0;31m \u001b[0mprint\u001b[0m\u001b[0;34m(\u001b[0m\u001b[0mnew_variable\u001b[0m\u001b[0;34m)\u001b[0m\u001b[0;34m\u001b[0m\u001b[0;34m\u001b[0m\u001b[0m\n\u001b[0m\u001b[1;32m      2\u001b[0m \u001b[0mnew_variable\u001b[0m \u001b[0;34m=\u001b[0m \u001b[0;36m5\u001b[0m \u001b[0;31m# too late\u001b[0m\u001b[0;34m\u001b[0m\u001b[0;34m\u001b[0m\u001b[0m\n",
      "\u001b[0;31mNameError\u001b[0m: name 'new_variable' is not defined"
     ]
    }
   ],
   "source": [
    "print(new_variable)\n",
    "new_variable = 5 # too late"
   ]
  },
  {
   "cell_type": "markdown",
   "metadata": {},
   "source": [
    "### Variable names\n",
    "\n",
    "In Python it is common to start variable names with lowercase characters and separate words with an <code>_</code> (underscore). Like\n",
    "```python\n",
    "left\n",
    "left_and_right\n",
    "```\n",
    "It is possible to use numbers inside variable names, but it's not allowed to begin a variable name with a number.\n",
    "```python\n",
    "value1 = 5 # ok\n",
    "value_1 = 5 # ok and better readability\n",
    "1value = 5 # not working\n",
    "```\n",
    "If we try to execute this code we'll get an *syntax error*, meaning we broke the rules of the language and the code is not executable."
   ]
  },
  {
   "cell_type": "code",
   "execution_count": 8,
   "metadata": {},
   "outputs": [
    {
     "ename": "SyntaxError",
     "evalue": "invalid syntax (<ipython-input-8-df0835f46db4>, line 3)",
     "output_type": "error",
     "traceback": [
      "\u001b[0;36m  File \u001b[0;32m\"<ipython-input-8-df0835f46db4>\"\u001b[0;36m, line \u001b[0;32m3\u001b[0m\n\u001b[0;31m    1value = 5\u001b[0m\n\u001b[0m     ^\u001b[0m\n\u001b[0;31mSyntaxError\u001b[0m\u001b[0;31m:\u001b[0m invalid syntax\n"
     ]
    }
   ],
   "source": [
    "value1 = 5\n",
    "value_1 = 5\n",
    "1value = 5"
   ]
  },
  {
   "cell_type": "markdown",
   "metadata": {},
   "source": [
    "Each programming language has reserved **keywords**. If your code editor provides **syntax highlighting**, you can identify these keywords when you write them. You can't or should not use this keywords as names for your variables.<br>\n",
    "For example if we use <code>print</code> as a name, we will override our print() function, meaning we can't print anymore (until we restart our interpreter)."
   ]
  },
  {
   "cell_type": "code",
   "execution_count": 34,
   "metadata": {},
   "outputs": [
    {
     "ename": "TypeError",
     "evalue": "'int' object is not callable",
     "output_type": "error",
     "traceback": [
      "\u001b[0;31m---------------------------------------------------------------------------\u001b[0m",
      "\u001b[0;31mTypeError\u001b[0m                                 Traceback (most recent call last)",
      "\u001b[0;32m<ipython-input-34-033c949f272f>\u001b[0m in \u001b[0;36m<module>\u001b[0;34m\u001b[0m\n\u001b[1;32m      1\u001b[0m \u001b[0;31m# Possible but should be avoided.\u001b[0m\u001b[0;34m\u001b[0m\u001b[0;34m\u001b[0m\u001b[0;34m\u001b[0m\u001b[0m\n\u001b[1;32m      2\u001b[0m \u001b[0mprint\u001b[0m \u001b[0;34m=\u001b[0m \u001b[0;36m7\u001b[0m\u001b[0;34m\u001b[0m\u001b[0;34m\u001b[0m\u001b[0m\n\u001b[0;32m----> 3\u001b[0;31m \u001b[0mprint\u001b[0m\u001b[0;34m(\u001b[0m\u001b[0mprint\u001b[0m\u001b[0;34m)\u001b[0m\u001b[0;34m\u001b[0m\u001b[0;34m\u001b[0m\u001b[0m\n\u001b[0m",
      "\u001b[0;31mTypeError\u001b[0m: 'int' object is not callable"
     ]
    }
   ],
   "source": [
    "# Possible but should be avoided, because it will override our print() function!\n",
    "\n",
    "# print = 7\n",
    "# print(print)"
   ]
  },
  {
   "cell_type": "code",
   "execution_count": 33,
   "metadata": {},
   "outputs": [
    {
     "ename": "SyntaxError",
     "evalue": "invalid syntax (<ipython-input-33-3b857d814e92>, line 1)",
     "output_type": "error",
     "traceback": [
      "\u001b[0;36m  File \u001b[0;32m\"<ipython-input-33-3b857d814e92>\"\u001b[0;36m, line \u001b[0;32m1\u001b[0m\n\u001b[0;31m    for = 7\u001b[0m\n\u001b[0m        ^\u001b[0m\n\u001b[0;31mSyntaxError\u001b[0m\u001b[0;31m:\u001b[0m invalid syntax\n"
     ]
    }
   ],
   "source": [
    "for = 7"
   ]
  },
  {
   "cell_type": "markdown",
   "metadata": {},
   "source": [
    "The names (`left`, `right`, `var_1`, `i`, `animal`, `text`, `paragraph`, ...) are almost totally up to you. (We'll learn exceptions later.)"
   ]
  },
  {
   "cell_type": "markdown",
   "metadata": {},
   "source": [
    "### Overriding variables\n",
    "<div class=\"alert alert-box alert-success\">\n",
    "    <b>Variables are unique (like addresses)</b>. If we use a variable name that is already initiated, then we will *override* the old value.\n",
    "</div>"
   ]
  },
  {
   "cell_type": "code",
   "execution_count": 14,
   "metadata": {},
   "outputs": [
    {
     "name": "stdout",
     "output_type": "stream",
     "text": [
      "22\n",
      "6\n"
     ]
    }
   ],
   "source": [
    "print(right)\n",
    "right = 6 # This will override the variable 'right'\n",
    "print(right)"
   ]
  },
  {
   "cell_type": "markdown",
   "metadata": {},
   "source": [
    "If we execute the <code>right = 6</code>, the Python interpreter will identify that an object with the name <code>right</code> is already present in our virtual space and will change its data from <code>22</code> to <code>6</code>.\n",
    "\n",
    "![Variables in a virtual space](images/variables_overriding.jpg)"
   ]
  },
  {
   "cell_type": "code",
   "execution_count": 15,
   "metadata": {},
   "outputs": [
    {
     "name": "stdout",
     "output_type": "stream",
     "text": [
      "17\n"
     ]
    }
   ],
   "source": [
    "left_and_right = left + right # This will override the variable 'left and right'\n",
    "print(left_and_right)"
   ]
  },
  {
   "cell_type": "markdown",
   "metadata": {},
   "source": [
    "We can use variables as operands to override themselves:"
   ]
  },
  {
   "cell_type": "code",
   "execution_count": 16,
   "metadata": {},
   "outputs": [
    {
     "name": "stdout",
     "output_type": "stream",
     "text": [
      "11\n",
      "18\n"
     ]
    }
   ],
   "source": [
    "print(left)\n",
    "left = left + 7\n",
    "print(left)"
   ]
  },
  {
   "cell_type": "markdown",
   "metadata": {},
   "source": [
    "<div class=\"alert alert-box alert-success\">\n",
    "    Imagine the process of the execution. The code on the right side of the <code>=</code>-sign is executed first. <i>Then</i> the result is assigned to the variable on the left.\n",
    "</div>"
   ]
  },
  {
   "cell_type": "code",
   "execution_count": 17,
   "metadata": {},
   "outputs": [
    {
     "name": "stdout",
     "output_type": "stream",
     "text": [
      "18\n",
      "36\n"
     ]
    }
   ],
   "source": [
    "print(left)\n",
    "left = left * 2\n",
    "print(left)"
   ]
  },
  {
   "cell_type": "markdown",
   "metadata": {},
   "source": [
    "There is a shortcut for operations that are performed on objects themselve:<br>\n",
    "Instead of<br>\n",
    "```python\n",
    "left = left * 2\n",
    "```\n",
    "we can write\n",
    "```python\n",
    "left *= 2\n",
    "```"
   ]
  },
  {
   "cell_type": "code",
   "execution_count": 20,
   "metadata": {},
   "outputs": [
    {
     "name": "stdout",
     "output_type": "stream",
     "text": [
      "36\n",
      "72\n",
      "82\n",
      "80\n",
      "40.0\n"
     ]
    }
   ],
   "source": [
    "print(left)\n",
    "left *= 2\n",
    "print(left)\n",
    "left += 10\n",
    "print(left)\n",
    "left -= 2\n",
    "print(left)\n",
    "left /= 2\n",
    "print(left)"
   ]
  },
  {
   "cell_type": "markdown",
   "metadata": {},
   "source": [
    "<div class=\"alert alert-box alert-info\">\n",
    "    Task: Swap the values of left and right.<br><br>\n",
    "    Output should be:<br>\n",
    "    <code>left: 6</code><br>\n",
    "    <code>right: 40.0</code>\n",
    "</div>"
   ]
  },
  {
   "cell_type": "code",
   "execution_count": 2,
   "metadata": {
    "tags": [
     "hide-input"
    ]
   },
   "outputs": [
    {
     "name": "stdout",
     "output_type": "stream",
     "text": [
      "left: 6\n",
      "right: 40.0\n"
     ]
    }
   ],
   "source": [
    "# One solution:\n",
    "left, right = right, left\n",
    "\n",
    "# Another solution with a temporary variable:\n",
    "# _left = left\n",
    "# left = right\n",
    "# right = _left\n",
    "\n",
    "print('left:', left)\n",
    "print('right:', right)"
   ]
  },
  {
   "cell_type": "code",
   "execution_count": null,
   "metadata": {},
   "outputs": [],
   "source": []
  },
  {
   "cell_type": "markdown",
   "metadata": {},
   "source": [
    "## Data types\n",
    "\n",
    "As you can see the value of the variable `left` is written withouth a `.`, the value of `right` with a `.`.<br>These are different **types** of data. We can check them through the **function** `type()`."
   ]
  },
  {
   "cell_type": "code",
   "execution_count": 23,
   "metadata": {},
   "outputs": [
    {
     "name": "stdout",
     "output_type": "stream",
     "text": [
      "6 is of type <class 'int'>\n",
      "40.0 is of type <class 'float'>\n"
     ]
    }
   ],
   "source": [
    "print(left, 'is of type', type(left))\n",
    "print(right, 'is of type', type(right))"
   ]
  },
  {
   "cell_type": "markdown",
   "metadata": {},
   "source": [
    "6 is an **integer** (ganze Zahl) (`int`), 40.0 **float** (Kommazahl) (`float`). Take care that floats are written with a dot, not with a comma.<br>\n",
    "Text is stored as type **string** (`str`).<br>\n",
    "While integers and floats are just written down, text is defined through single, regular or triple quotation marks."
   ]
  },
  {
   "cell_type": "code",
   "execution_count": 26,
   "metadata": {},
   "outputs": [
    {
     "name": "stdout",
     "output_type": "stream",
     "text": [
      "Example text.\n",
      "type: <class 'str'>\n"
     ]
    }
   ],
   "source": [
    "txt = 'Example text.'\n",
    "print(txt)\n",
    "print('''type:''', type(txt))"
   ]
  },
  {
   "cell_type": "code",
   "execution_count": 27,
   "metadata": {},
   "outputs": [
    {
     "name": "stdout",
     "output_type": "stream",
     "text": [
      "Text inside regular quotation marks.\n"
     ]
    }
   ],
   "source": [
    "txt = \"Text inside regular quotation marks.\"\n",
    "print(txt)"
   ]
  },
  {
   "cell_type": "code",
   "execution_count": 28,
   "metadata": {},
   "outputs": [
    {
     "name": "stdout",
     "output_type": "stream",
     "text": [
      "Triple quotation marks\n",
      "are useful if you want to write\n",
      "multiple lines of text.\n"
     ]
    }
   ],
   "source": [
    "txt = '''Triple quotation marks\n",
    "are useful if you want to write\n",
    "multiple lines of text.'''\n",
    "print(txt)"
   ]
  },
  {
   "cell_type": "markdown",
   "metadata": {},
   "source": [
    "### Casting\n",
    "\n",
    "Python automatically adjusts the type of the variable according to the value. (In some programming languages we have to set the type manually before we assign a value to it.)<br>\n",
    "But it's possible to change the data type (*casting*):\n",
    "\n",
    "```python\n",
    "float() # Transforms data into a floating number.\n",
    "int() # Transforms data into an integer.\n",
    "str() # Transforms data into a string.\n",
    "```"
   ]
  },
  {
   "cell_type": "code",
   "execution_count": 30,
   "metadata": {},
   "outputs": [
    {
     "name": "stdout",
     "output_type": "stream",
     "text": [
      "left as float: 11.0\n",
      "left as integer: 11\n",
      "left as string: 11\n"
     ]
    }
   ],
   "source": [
    "left = float(11)\n",
    "print('left as float:', left)\n",
    "left = int(left)\n",
    "print('left as integer:', left)\n",
    "left = str(left)\n",
    "print('left as string:', left)"
   ]
  },
  {
   "cell_type": "markdown",
   "metadata": {},
   "source": [
    "Be aware that the last 11 is not a number anymore for the Python interpreter. See:"
   ]
  },
  {
   "cell_type": "code",
   "execution_count": 31,
   "metadata": {},
   "outputs": [
    {
     "name": "stdout",
     "output_type": "stream",
     "text": [
      "1111\n"
     ]
    }
   ],
   "source": [
    "print(left * 2)"
   ]
  },
  {
   "cell_type": "markdown",
   "metadata": {},
   "source": [
    "But as long as the string contains only numbers we can cast it back to a real number."
   ]
  },
  {
   "cell_type": "code",
   "execution_count": 39,
   "metadata": {},
   "outputs": [],
   "source": [
    "left = '11'"
   ]
  },
  {
   "cell_type": "code",
   "execution_count": 40,
   "metadata": {},
   "outputs": [
    {
     "name": "stdout",
     "output_type": "stream",
     "text": [
      "11111111\n",
      "2222\n"
     ]
    }
   ],
   "source": [
    "left *= 2\n",
    "print(left * 2)\n",
    "left = int(left)\n",
    "print(left * 2)"
   ]
  },
  {
   "cell_type": "markdown",
   "metadata": {},
   "source": [
    "But we can't transform a written number into an integer or float:"
   ]
  },
  {
   "cell_type": "code",
   "execution_count": 29,
   "metadata": {},
   "outputs": [
    {
     "ename": "ValueError",
     "evalue": "invalid literal for int() with base 10: 'eleven'",
     "output_type": "error",
     "traceback": [
      "\u001b[0;31m---------------------------------------------------------------------------\u001b[0m",
      "\u001b[0;31mValueError\u001b[0m                                Traceback (most recent call last)",
      "\u001b[0;32m<ipython-input-29-dc9ae2a2dfed>\u001b[0m in \u001b[0;36m<module>\u001b[0;34m\u001b[0m\n\u001b[0;32m----> 1\u001b[0;31m \u001b[0mleft\u001b[0m \u001b[0;34m=\u001b[0m \u001b[0mint\u001b[0m\u001b[0;34m(\u001b[0m\u001b[0;34m'eleven'\u001b[0m\u001b[0;34m)\u001b[0m\u001b[0;34m\u001b[0m\u001b[0;34m\u001b[0m\u001b[0m\n\u001b[0m",
      "\u001b[0;31mValueError\u001b[0m: invalid literal for int() with base 10: 'eleven'"
     ]
    }
   ],
   "source": [
    "left = int('eleven')"
   ]
  },
  {
   "cell_type": "markdown",
   "metadata": {},
   "source": [
    "<div class=\"alert alert-box alert-info\">\n",
    "    Task:\n",
    "    <ul>\n",
    "        <li>Initialize a new variable</li>\n",
    "        <li>Assign a value of type float or int to it.</li>\n",
    "        <li>Print it.</li>\n",
    "        <li>Cast it to the other type (int or float).</li>\n",
    "        <li>Print it.</li>\n",
    "        <li>Override the variable with a string and print it.</li>\n",
    "    </ul>\n",
    "</div>"
   ]
  },
  {
   "cell_type": "code",
   "execution_count": 3,
   "metadata": {
    "tags": [
     "hide-input"
    ]
   },
   "outputs": [
    {
     "name": "stdout",
     "output_type": "stream",
     "text": [
      "45.2\n",
      "45\n",
      "the quick brown fox jumps over the lazy dog. \n"
     ]
    }
   ],
   "source": [
    "# One possibility:\n",
    "m = 45.2\n",
    "print(m)\n",
    "m = int(m)\n",
    "print(m)\n",
    "m = 'the quick brown fox jumps over the lazy dog. '\n",
    "print(m)"
   ]
  },
  {
   "cell_type": "code",
   "execution_count": null,
   "metadata": {},
   "outputs": [],
   "source": []
  },
  {
   "cell_type": "markdown",
   "metadata": {},
   "source": [
    "## Programs are text (files)\n",
    "\n",
    "<div class=\"alert alert-box alert-info\">\n",
    "    Task: Create a <b>plain</b> text file and write some statement(s) from above into it. Save it with a choosen filename + the suffix `.py`, for e.g. `001.py`).\n",
    "    Then execute it with Python.\n",
    "</div>\n",
    "\n",
    "<div class=\"alert alert-box alert-warning\">\n",
    "    Caution: It's not allowed to include spaces (\" \") into the filename if it should be executable through the terminal. (In general it's recommended to avoid spaces when programing.\n",
    "</div>\n",
    "\n",
    "\n",
    "For example:\n",
    "```python\n",
    "txt = 'Hello, World!'\n",
    "print(txt)\n",
    "```\n",
    "Open the command line of your operating system (see help for [Linux](https://www.wikihow.com/Open-a-Terminal-Window-in-Ubuntu), [Mac](https://www.wikihow.com/Open-a-Terminal-Window-in-Mac), [Windows](https://www.wikihow.com/Open-Terminal-in-Windows)).\n",
    "\n",
    "To execute python code that is stored in a .py file, write `python` or `python3` (if Python 2 is your default version) followed by the name of the file including the filepath. (You can write `python`, then drag and drop your .py file into the terminal and then press `enter` to execute it.<br>\n",
    "<br>\n",
    "Type in your terminal window:\n",
    "``` shell\n",
    "python3 /path/to/folder/001.py\n",
    "```"
   ]
  },
  {
   "cell_type": "markdown",
   "metadata": {},
   "source": [
    "The code is stored in a plain text file. As a proof we can change its suffix from .py to .txt and open the file with Python.<br>\n",
    "\n",
    "Of course this was just for demonstration purpose and you should always use the correct suffix!<br>\n",
    "\n",
    "Btw, the code of the Pure Data program is a plain text file as well and we can open it with a normal text editor:\n",
    "\n",
    "```\n",
    "#N canvas 981 313 450 300 12;\n",
    "#X floatatom 109 90 5 0 0 0 - - -;\n",
    "#X floatatom 198 87 5 0 0 0 - - -;\n",
    "#X obj 198 111 t b f;\n",
    "#X obj 143 156 +;\n",
    "#X floatatom 143 200 5 0 0 0 - - -;\n",
    "#X connect 0 0 3 0;\n",
    "#X connect 1 0 2 0;\n",
    "#X connect 2 0 3 0;\n",
    "#X connect 2 1 3 1;\n",
    "#X connect 3 0 4 0;\n",
    "```"
   ]
  }
 ],
 "metadata": {
  "kernelspec": {
   "display_name": "Python 3",
   "language": "python",
   "name": "python3"
  },
  "language_info": {
   "codemirror_mode": {
    "name": "ipython",
    "version": 3
   },
   "file_extension": ".py",
   "mimetype": "text/x-python",
   "name": "python",
   "nbconvert_exporter": "python",
   "pygments_lexer": "ipython3",
   "version": "3.9.7"
  }
 },
 "nbformat": 4,
 "nbformat_minor": 4
}
