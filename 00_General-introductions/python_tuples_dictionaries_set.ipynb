{
 "cells": [
  {
   "cell_type": "markdown",
   "id": "9f1d2761-cd08-4631-a5bc-ef8309dded0e",
   "metadata": {},
   "source": [
    "# Python: Tuples, Dictionaries and Sets"
   ]
  },
  {
   "cell_type": "markdown",
   "id": "10093920-881f-41d1-957f-379771225b4c",
   "metadata": {},
   "source": [
    "## Tuple\n",
    "\n",
    "A tuple is defined with `()`. It can store multiple values like a list, but the items are unchangeable (**immutable**). This means that the order and the values of the items are fixed."
   ]
  },
  {
   "cell_type": "code",
   "execution_count": 4,
   "id": "d851a2ca-908f-4db9-9e56-4c6874ef86fe",
   "metadata": {},
   "outputs": [],
   "source": [
    "rgb = (93, 217, 117)"
   ]
  },
  {
   "cell_type": "code",
   "execution_count": 5,
   "id": "690daf54-9efc-42bd-a89a-0fd4fdc482a5",
   "metadata": {},
   "outputs": [
    {
     "data": {
      "text/plain": [
       "tuple"
      ]
     },
     "execution_count": 5,
     "metadata": {},
     "output_type": "execute_result"
    }
   ],
   "source": [
    "type(rgb)"
   ]
  },
  {
   "cell_type": "code",
   "execution_count": 6,
   "id": "e34e930f-ed7a-4389-944f-fb3db0cbce99",
   "metadata": {},
   "outputs": [
    {
     "name": "stdout",
     "output_type": "stream",
     "text": [
      "93\n",
      "217\n",
      "117\n"
     ]
    }
   ],
   "source": [
    "# Loop over a tuple:\n",
    "for item in rgb:\n",
    "    print(item)"
   ]
  },
  {
   "cell_type": "code",
   "execution_count": 7,
   "id": "e3f3ad3f-b65f-4b74-ac26-e3d8a149742c",
   "metadata": {},
   "outputs": [
    {
     "data": {
      "text/plain": [
       "217"
      ]
     },
     "execution_count": 7,
     "metadata": {},
     "output_type": "execute_result"
    }
   ],
   "source": [
    "# We can access items through their index:\n",
    "rgb[1]"
   ]
  },
  {
   "cell_type": "code",
   "execution_count": 9,
   "id": "2b550837-c539-4edc-8e48-ed0b49019d72",
   "metadata": {},
   "outputs": [
    {
     "ename": "TypeError",
     "evalue": "'tuple' object does not support item assignment",
     "output_type": "error",
     "traceback": [
      "\u001b[0;31m---------------------------------------------------------------------------\u001b[0m",
      "\u001b[0;31mTypeError\u001b[0m                                 Traceback (most recent call last)",
      "\u001b[0;32m/tmp/ipykernel_8042/3999292401.py\u001b[0m in \u001b[0;36m<module>\u001b[0;34m\u001b[0m\n\u001b[1;32m      1\u001b[0m \u001b[0;31m# It's not possible to change the values.\u001b[0m\u001b[0;34m\u001b[0m\u001b[0;34m\u001b[0m\u001b[0m\n\u001b[0;32m----> 2\u001b[0;31m \u001b[0mrgb\u001b[0m\u001b[0;34m[\u001b[0m\u001b[0;36m1\u001b[0m\u001b[0;34m]\u001b[0m \u001b[0;34m=\u001b[0m \u001b[0;36m216\u001b[0m\u001b[0;34m\u001b[0m\u001b[0;34m\u001b[0m\u001b[0m\n\u001b[0m",
      "\u001b[0;31mTypeError\u001b[0m: 'tuple' object does not support item assignment"
     ]
    }
   ],
   "source": [
    "# It's not possible to change the values.\n",
    "rgb[1] = 216"
   ]
  },
  {
   "cell_type": "markdown",
   "id": "827b31e4-bda5-4721-be75-4dd10f5cdee3",
   "metadata": {},
   "source": [
    "### Change tuple values through list conversion\n",
    "\n",
    "It's not possible to change the tuple directly, instead it can be converted to a list, then modified, then converted into a tuple:"
   ]
  },
  {
   "cell_type": "code",
   "execution_count": 2,
   "id": "fe9f9dc9-d650-45fe-b5e2-aaf89666e023",
   "metadata": {},
   "outputs": [
    {
     "name": "stdout",
     "output_type": "stream",
     "text": [
      "(93, 217, 117)\n",
      "(93, 216, 117)\n"
     ]
    }
   ],
   "source": [
    "print(rgb)\n",
    "# Convert tuple to list.\n",
    "rgb = list(rgb)\n",
    "# Change value.\n",
    "rgb[1] = 216\n",
    "# Convert list to tuple.\n",
    "rgb = tuple(rgb)\n",
    "print(rgb)"
   ]
  },
  {
   "cell_type": "markdown",
   "id": "f14e4d1c-f546-43a5-b259-40ad742b5098",
   "metadata": {},
   "source": [
    "<div class='alert alert-box alert-info'>\n",
    "    Task: Create a new tuple with values of your choice.<br>\n",
    "    Convert it to a list and modify the list (append, remove).<br>\n",
    "    Convert it back to a tuple and iterate over it.\n",
    "</div>"
   ]
  },
  {
   "cell_type": "code",
   "execution_count": 2,
   "id": "8a4bcb58-8545-4655-b931-10cc019017d6",
   "metadata": {
    "tags": [
     "hide-input"
    ]
   },
   "outputs": [
    {
     "name": "stdout",
     "output_type": "stream",
     "text": [
      "a\n",
      "rose\n",
      "is a rose\n",
      "is a rose\n"
     ]
    }
   ],
   "source": [
    "rose = ('a', 'rose')\n",
    "rose = list(rose)\n",
    "rose += ['is a rose']*2\n",
    "rose = tuple(rose)\n",
    "for item in rose:\n",
    "    print(item)"
   ]
  },
  {
   "cell_type": "code",
   "execution_count": null,
   "id": "e37b22dc-f4f8-48aa-9c20-22096e9f03c1",
   "metadata": {},
   "outputs": [],
   "source": []
  },
  {
   "cell_type": "markdown",
   "id": "d900aa28-6705-4115-aa3a-2fcd218b4fb0",
   "metadata": {},
   "source": [
    "### Data types inside a tuple"
   ]
  },
  {
   "cell_type": "code",
   "execution_count": 10,
   "id": "8a09684d-09b1-4267-bd94-abc105291434",
   "metadata": {},
   "outputs": [
    {
     "name": "stdout",
     "output_type": "stream",
     "text": [
      "(93, '217', 117.0, ['a', 'list', 'inside', 'a', 'tuple'], ('a', 'tuple', 'inside', 'a', 'tuple'))\n"
     ]
    }
   ],
   "source": [
    "# A tuple can contain any data type and also mixed data (like a list).\n",
    "mixed_tuple = (93, '217', 117.0, ['a', 'list', 'inside', 'a', 'tuple'], ('a', 'tuple', 'inside', 'a', 'tuple'))\n",
    "print(mixed_tuple)"
   ]
  },
  {
   "cell_type": "code",
   "execution_count": 19,
   "id": "7ab89028-1bdf-47ff-9ead-77d1729c77c1",
   "metadata": {},
   "outputs": [
    {
     "name": "stdout",
     "output_type": "stream",
     "text": [
      "93\n",
      "217\n",
      "117.0\n",
      "['a', 'list', 'inside', 'a', 'tuple']\n",
      "('a', 'tuple', 'inside', 'a', 'tuple')\n"
     ]
    }
   ],
   "source": [
    "for item in mixed_tuple:\n",
    "    print(item)"
   ]
  },
  {
   "cell_type": "code",
   "execution_count": 13,
   "id": "5514c242-aadd-4f70-bd58-a00d4cbb5abc",
   "metadata": {},
   "outputs": [
    {
     "data": {
      "text/plain": [
       "True"
      ]
     },
     "execution_count": 13,
     "metadata": {},
     "output_type": "execute_result"
    }
   ],
   "source": [
    "'217' in mixed_tuple"
   ]
  },
  {
   "cell_type": "markdown",
   "id": "d986a608-b175-4ee7-961c-7b861d55fb2e",
   "metadata": {},
   "source": [
    "### Unpacking a tuple"
   ]
  },
  {
   "cell_type": "code",
   "execution_count": 8,
   "id": "1d8d5276-da10-434f-b3e9-f2ac4364c230",
   "metadata": {},
   "outputs": [
    {
     "name": "stdout",
     "output_type": "stream",
     "text": [
      "93\n",
      "217\n",
      "117\n"
     ]
    }
   ],
   "source": [
    "# Unpacking a tuple into single variables:\n",
    "r, g, b = rgb\n",
    "print(r)\n",
    "print(g)\n",
    "print(b)"
   ]
  },
  {
   "cell_type": "markdown",
   "id": "469840a7-5f66-4225-9876-8c56130f4db7",
   "metadata": {},
   "source": [
    "This is for example useful, if a function should return multiple values into several variables:"
   ]
  },
  {
   "cell_type": "code",
   "execution_count": 1,
   "id": "0906f827-c05e-4d46-9b97-d18a6db3bbf9",
   "metadata": {},
   "outputs": [],
   "source": [
    "def return_multiple_values():\n",
    "    a = 10\n",
    "    b = a*2\n",
    "    \n",
    "    # Return values as a tuple:\n",
    "    return (a, b) # It's possible to leave the (): return a, b"
   ]
  },
  {
   "cell_type": "code",
   "execution_count": 10,
   "id": "198164b8-c73c-4a03-a51d-10d2ec865803",
   "metadata": {},
   "outputs": [
    {
     "name": "stdout",
     "output_type": "stream",
     "text": [
      "10\n",
      "20\n"
     ]
    }
   ],
   "source": [
    "# Unpack return values in two separate variables:\n",
    "outer, inner = return_multiple_values()\n",
    "print(outer)\n",
    "print(inner)"
   ]
  },
  {
   "cell_type": "markdown",
   "id": "c6257043-96ad-465e-a698-deb4a12fa462",
   "metadata": {},
   "source": [
    "<div class='alert alert-box alert-info'>\n",
    "    Write a function that generates 3 random color values between 0 and 255 and store them in three independent variables.\n",
    "</div>"
   ]
  },
  {
   "cell_type": "code",
   "execution_count": 18,
   "id": "41105201-4f1f-4d2f-86da-8341aab1b1b9",
   "metadata": {
    "tags": [
     "hide-input"
    ]
   },
   "outputs": [
    {
     "name": "stdout",
     "output_type": "stream",
     "text": [
      "86\n",
      "123\n",
      "77\n"
     ]
    }
   ],
   "source": [
    "def generate_rgb():\n",
    "    import random\n",
    "    \n",
    "    # Generate three values in a list.\n",
    "    rgb_list = [random.randrange(0, 256) for i in range(3)]\n",
    "    # Convert to tuple\n",
    "    rgb_tuple = tuple(rgb_list)\n",
    "    \n",
    "    return rgb_tuple\n",
    "\n",
    "r, g, b = generate_rgb()\n",
    "\n",
    "print(r)\n",
    "print(g)\n",
    "print(b)"
   ]
  },
  {
   "cell_type": "markdown",
   "id": "706524fd-0362-4a74-ae1c-b2e5e2f96b26",
   "metadata": {},
   "source": [
    "## Dictionaries\n",
    "\n",
    "Dictionaries consists of `key:value` pairs. A key is unique. The syntax is\n",
    "```python\n",
    "{'key':'value', 'key':'value', 'key':'value'}\n",
    "```"
   ]
  },
  {
   "cell_type": "code",
   "execution_count": 4,
   "id": "3eaa89a9-51b0-400c-a9a4-8a2f109044cd",
   "metadata": {},
   "outputs": [],
   "source": [
    "d = {'x':'value1', 'y':'value2'}"
   ]
  },
  {
   "cell_type": "code",
   "execution_count": 4,
   "id": "3111330a-a528-4043-90bc-09432f7ea9f3",
   "metadata": {},
   "outputs": [
    {
     "data": {
      "text/plain": [
       "dict"
      ]
     },
     "execution_count": 4,
     "metadata": {},
     "output_type": "execute_result"
    }
   ],
   "source": [
    "type(d)"
   ]
  },
  {
   "cell_type": "code",
   "execution_count": 2,
   "id": "a6722a5b-9dd6-489b-bdde-5c2f645a8116",
   "metadata": {},
   "outputs": [
    {
     "data": {
      "text/plain": [
       "dict_keys(['x', 'y'])"
      ]
     },
     "execution_count": 2,
     "metadata": {},
     "output_type": "execute_result"
    }
   ],
   "source": [
    "# get keys\n",
    "d.keys()"
   ]
  },
  {
   "cell_type": "code",
   "execution_count": 21,
   "id": "34d6b742-c90e-466a-b9e9-fdcc1af523e6",
   "metadata": {},
   "outputs": [
    {
     "data": {
      "text/plain": [
       "dict_values(['value1', 'value2'])"
      ]
     },
     "execution_count": 21,
     "metadata": {},
     "output_type": "execute_result"
    }
   ],
   "source": [
    "# get values\n",
    "d.values()"
   ]
  },
  {
   "cell_type": "code",
   "execution_count": 20,
   "id": "aff803b5-99c8-4aeb-8342-a64bd00dec88",
   "metadata": {},
   "outputs": [
    {
     "data": {
      "text/plain": [
       "'value1'"
      ]
     },
     "execution_count": 20,
     "metadata": {},
     "output_type": "execute_result"
    }
   ],
   "source": [
    "# get value from key\n",
    "d.get('x')\n",
    "# or\n",
    "d['x']"
   ]
  },
  {
   "cell_type": "code",
   "execution_count": 5,
   "id": "ff362dd5-155c-4109-868c-44baa8674692",
   "metadata": {},
   "outputs": [
    {
     "name": "stdout",
     "output_type": "stream",
     "text": [
      "value1\n",
      "value2\n"
     ]
    }
   ],
   "source": [
    "for key in d.keys():\n",
    "    print(d.get(key))"
   ]
  },
  {
   "cell_type": "markdown",
   "id": "1be6f100-d689-40ca-a270-3a30c454b933",
   "metadata": {},
   "source": [
    "### Add and remove items"
   ]
  },
  {
   "cell_type": "code",
   "execution_count": 24,
   "id": "8d4cebd3-1427-42ac-bc38-0f85bce7514b",
   "metadata": {},
   "outputs": [
    {
     "name": "stdout",
     "output_type": "stream",
     "text": [
      "dict_keys(['x', 'y', 'z'])\n",
      "zebra\n"
     ]
    }
   ],
   "source": [
    "d['z'] = 'zebra'\n",
    "print(d.keys())\n",
    "print(d.get('z'))"
   ]
  },
  {
   "cell_type": "code",
   "execution_count": 25,
   "id": "04772cb3-0391-4d5d-81dd-45aa190169ae",
   "metadata": {},
   "outputs": [
    {
     "name": "stdout",
     "output_type": "stream",
     "text": [
      "dict_keys(['x', 'y'])\n"
     ]
    }
   ],
   "source": [
    "d.pop('z')\n",
    "print(d.keys())"
   ]
  },
  {
   "cell_type": "markdown",
   "id": "733ac2dc-dd32-491a-a326-607591bc2126",
   "metadata": {},
   "source": [
    "### Loop dictionaries"
   ]
  },
  {
   "cell_type": "code",
   "execution_count": 26,
   "id": "f112c9c1-6e86-4f96-9513-5ae5d2719d23",
   "metadata": {},
   "outputs": [
    {
     "name": "stdout",
     "output_type": "stream",
     "text": [
      "x\n",
      "y\n"
     ]
    }
   ],
   "source": [
    "for key in d.keys():\n",
    "    print(key)"
   ]
  },
  {
   "cell_type": "code",
   "execution_count": 27,
   "id": "96702d07-246e-4017-b0f9-62158b40c70c",
   "metadata": {},
   "outputs": [
    {
     "name": "stdout",
     "output_type": "stream",
     "text": [
      "value1\n",
      "value2\n"
     ]
    }
   ],
   "source": [
    "for value in d.values():\n",
    "    print(value)"
   ]
  },
  {
   "cell_type": "code",
   "execution_count": 28,
   "id": "49c2463a-5deb-4aec-a8d9-2fb989cbe5c4",
   "metadata": {},
   "outputs": [
    {
     "name": "stdout",
     "output_type": "stream",
     "text": [
      "x - value1\n",
      "y - value2\n"
     ]
    }
   ],
   "source": [
    "for key, value in d.items():\n",
    "    print(key, '-', value)"
   ]
  },
  {
   "cell_type": "markdown",
   "id": "d4ec30af-94f2-40dc-9122-62eb30f00924",
   "metadata": {},
   "source": [
    "### More about dictionaries"
   ]
  },
  {
   "cell_type": "code",
   "execution_count": 30,
   "id": "93c76abb-90a5-4520-8969-68ea6f9ea44a",
   "metadata": {},
   "outputs": [],
   "source": [
    "# Copying a dictionary is done in one of the two following ways:\n",
    "\n",
    "d_copy = d.copy()\n",
    "# or\n",
    "d_copy = dict(d)"
   ]
  },
  {
   "cell_type": "markdown",
   "id": "95cbf713-8367-4340-800f-07e2e8a07084",
   "metadata": {},
   "source": [
    "<div class='alert alert-box alert-info'>\n",
    "    Task: Create a copy of <code>d</code><br>\n",
    "    Change a value.<br>\n",
    "    Remove a key<br>\n",
    "    Add a new key:value pair<br>\n",
    "    Change the key of that pair.<br>\n",
    "    Loop over the dictionary and print the pairs.\n",
    "</div>"
   ]
  },
  {
   "cell_type": "code",
   "execution_count": 5,
   "id": "ba8ce3bd-7d10-4a82-87f5-17eb62cffa12",
   "metadata": {
    "tags": [
     "hide-input"
    ]
   },
   "outputs": [
    {
     "name": "stdout",
     "output_type": "stream",
     "text": [
      "x : updated value\n",
      "z2 : a new key:value pair\n"
     ]
    }
   ],
   "source": [
    "# Create a copy of d.\n",
    "d_new = dict(d)\n",
    "# Change a value.\n",
    "d_new['x'] = 'updated value'\n",
    "# Remove a key.\n",
    "d_new.pop('y')\n",
    "# Add a new key:value pair.\n",
    "d_new['z'] = 'a new key:value pair'\n",
    "# Change its key.\n",
    "d_new['z2'] = d_new.pop('z')\n",
    "# Print it.\n",
    "for key, value in d_new.items():\n",
    "    print(key, ':', value)"
   ]
  },
  {
   "cell_type": "markdown",
   "id": "085a5a03-f42f-4243-9f70-70ef49925fe8",
   "metadata": {},
   "source": [
    "## Markov text generator with dictionary\n",
    "\n",
    "To illustrate the usage of a dictionary we'll create a very simple Markov Chain.<br>\n",
    "Markov chains consist of probability distributions for predicting next values based on an existing value. This could be used for text generation, for example as a next word suggestion tool in a mobile phone.<br>\n",
    "<br>\n",
    "The probability is drawn from a data set, for example a text."
   ]
  },
  {
   "cell_type": "code",
   "execution_count": 38,
   "id": "7cd22ebc-6468-47e8-9b59-c440a1b70355",
   "metadata": {},
   "outputs": [],
   "source": [
    "# Text corpora for the probabilities:\n",
    "txt = '''The quick brown fox jumps over the lazy dog. The lazy programmer jumps over the fire fox.'''\n",
    "txt = txt.lower().split()"
   ]
  },
  {
   "cell_type": "markdown",
   "id": "e3e0d892-53ae-46cc-bac0-fa24e0091b4c",
   "metadata": {},
   "source": [
    "Loop over txt and create `key:value` pairs for each word.<br>\n",
    "Each unique word is stored as a key and all the words next to that key are stored as values."
   ]
  },
  {
   "cell_type": "code",
   "execution_count": 40,
   "id": "26250868-d4fe-4fe8-a9d7-e0cdd1725a1c",
   "metadata": {},
   "outputs": [
    {
     "name": "stdout",
     "output_type": "stream",
     "text": [
      "the \tadded as key to dictionary, quick added as value\n",
      "quick \tadded as key to dictionary, brown added as value\n",
      "brown \tadded as key to dictionary, fox added as value\n",
      "fox \tadded as key to dictionary, jumps added as value\n",
      "jumps \tadded as key to dictionary, over added as value\n",
      "over \tadded as key to dictionary, the added as value\n",
      "the \tin dictionary, lazy added as value\n",
      "lazy \tadded as key to dictionary, dog. added as value\n",
      "dog. \tadded as key to dictionary, the added as value\n",
      "the \tin dictionary, lazy added as value\n",
      "lazy \tin dictionary, programmer added as value\n",
      "programmer \tadded as key to dictionary, jumps added as value\n",
      "jumps \tin dictionary, over added as value\n",
      "over \tin dictionary, the added as value\n",
      "the \tin dictionary, fire added as value\n",
      "fire \tadded as key to dictionary, fox. added as value\n"
     ]
    }
   ],
   "source": [
    "dictionary = {}\n",
    "debug = True\n",
    "\n",
    "for i in range(len(txt)-1):\n",
    "    key = txt[i]\n",
    "    value = txt[i+1]\n",
    "    \n",
    "    # Check if key exists:\n",
    "    if key in dictionary.keys():\n",
    "        # Then append the value to it's list of values.\n",
    "        dictionary[key].append(value)\n",
    "        if debug:\n",
    "            print(key, '\\tin dictionary,', value, 'added as value')\n",
    "    \n",
    "    # Else create the key and a list which holds the value.\n",
    "    else:\n",
    "        dictionary[key] = [value]\n",
    "        if debug:\n",
    "            print(key, '\\tadded as key to dictionary,', value, 'added as value')"
   ]
  },
  {
   "cell_type": "code",
   "execution_count": 30,
   "id": "2e1b10d6-33a7-4193-800d-b1c34bfa6c4c",
   "metadata": {},
   "outputs": [
    {
     "data": {
      "text/plain": [
       "{'the': ['quick', 'lazy', 'lazy', 'fire'],\n",
       " 'quick': ['brown'],\n",
       " 'brown': ['fox'],\n",
       " 'fox': ['jumps'],\n",
       " 'jumps': ['over', 'over'],\n",
       " 'over': ['the', 'the'],\n",
       " 'lazy': ['dog.', 'programmer'],\n",
       " 'dog.': ['the'],\n",
       " 'programmer': ['jumps'],\n",
       " 'fire': ['fox.']}"
      ]
     },
     "execution_count": 30,
     "metadata": {},
     "output_type": "execute_result"
    }
   ],
   "source": [
    "dictionary"
   ]
  },
  {
   "cell_type": "markdown",
   "id": "89cb0955-7f67-43a6-b7c2-6ad750ac0ed1",
   "metadata": {},
   "source": [
    "Based on this very small dictionary we can start the text generation. It will start with a given input. This input is used as a key to get all possible next words from the corpora:"
   ]
  },
  {
   "cell_type": "code",
   "execution_count": 31,
   "id": "3663a01f-ed5c-4d7c-b45f-639bae09d7f9",
   "metadata": {},
   "outputs": [
    {
     "data": {
      "text/plain": [
       "['quick', 'lazy', 'lazy', 'fire']"
      ]
     },
     "execution_count": 31,
     "metadata": {},
     "output_type": "execute_result"
    }
   ],
   "source": [
    "inp_ = 'the'\n",
    "\n",
    "# Get all values for the key inp_:\n",
    "possibilities = dictionary[inp_]\n",
    "possibilities"
   ]
  },
  {
   "cell_type": "markdown",
   "id": "7f0963a3-85e1-4aa2-bc00-efe1e058c8cf",
   "metadata": {},
   "source": [
    "In the text above the word `the` is followed by `quick, lazy, lazy, fire`, which are the possible next words for the input `the`.<br>\n",
    "Then we can pick one of them:"
   ]
  },
  {
   "cell_type": "code",
   "execution_count": 32,
   "id": "8cc8cc10-b3b5-4d9b-8fdb-9f05f3c4443d",
   "metadata": {},
   "outputs": [
    {
     "data": {
      "text/plain": [
       "'lazy'"
      ]
     },
     "execution_count": 32,
     "metadata": {},
     "output_type": "execute_result"
    }
   ],
   "source": [
    "random.choice(possibilities)"
   ]
  },
  {
   "cell_type": "markdown",
   "id": "d3a398fd-9132-4cb8-8aa9-1b4a958c0af3",
   "metadata": {},
   "source": [
    "Then this word is the next key and a value is looked up."
   ]
  },
  {
   "cell_type": "code",
   "execution_count": 41,
   "id": "e8419665-5e12-464c-b87a-8cf642d91366",
   "metadata": {},
   "outputs": [
    {
     "name": "stdout",
     "output_type": "stream",
     "text": [
      "the lazy programmer jumps over the quick brown fox jumps over the lazy programmer jumps over the fire fox.\n"
     ]
    }
   ],
   "source": [
    "gen_txt = ['the'] # Input / generated text as a list.\n",
    "\n",
    "# Loop until the last word ends with a dot.\n",
    "while not gen_txt[-1].endswith('.'):\n",
    "    \n",
    "    # Pick a value. Key is the last item from the list.\n",
    "    new_token = random.choice(dictionary[gen_txt[-1]])\n",
    "    \n",
    "    # Append the picked value to the list.\n",
    "    # This value is the key in the next iteration of the loop.\n",
    "    gen_txt.append(new_token)\n",
    "    \n",
    "# Join list to string and print it.\n",
    "gen_txt = ' '.join(gen_txt)\n",
    "print(gen_txt)"
   ]
  },
  {
   "cell_type": "markdown",
   "id": "0aacd65d-56bc-4a28-ac10-a69940d23d67",
   "metadata": {},
   "source": [
    "<br>\n",
    "For more about generating text with a Markov chain see <a href=\"https://github.com/experimental-informatics/hands-on-text-generators\" target=\"_blank\">hands-on text generators</a>.\n",
    "<br>"
   ]
  },
  {
   "cell_type": "markdown",
   "id": "50f06966-9935-4f24-9bd9-d7f067024db1",
   "metadata": {},
   "source": [
    "## Set\n",
    "\n",
    "**Set** is the 4th data type for storing collections of data next to **list**, **tuple** and **dictionary**. A set is like a list except it can contain only one occurence of each item. A set is created with `{}` and comma-separated values."
   ]
  },
  {
   "cell_type": "code",
   "execution_count": 5,
   "id": "b77a6fb8-0f9c-41cc-ae98-bd0ce6174a4c",
   "metadata": {},
   "outputs": [
    {
     "name": "stdout",
     "output_type": "stream",
     "text": [
      "{'two words', 4, 29}\n",
      "<class 'set'>\n"
     ]
    }
   ],
   "source": [
    "data = {4, 29, 'two words', 4}\n",
    "print(data)\n",
    "print(type(data))"
   ]
  },
  {
   "cell_type": "markdown",
   "id": "0d1069b8-c91a-43b4-9c96-4ad3319aa8d2",
   "metadata": {},
   "source": [
    "The 4 appears two times in the creation but only once in the object. Furthermore the items in a set are **unordered**."
   ]
  },
  {
   "cell_type": "markdown",
   "id": "2376f06a-59d9-4665-a5f3-1ce8a04fc6f7",
   "metadata": {},
   "source": [
    "### set()\n",
    "\n",
    "A set can be created by transforming a sequence of data into a set with the `set()` method."
   ]
  },
  {
   "cell_type": "code",
   "execution_count": 20,
   "id": "175a019b-90e0-4ed9-97af-77dadfd2c00f",
   "metadata": {},
   "outputs": [
    {
     "name": "stdout",
     "output_type": "stream",
     "text": [
      "list: ['The', 'quick', 'brown', 'fox', 'jumps', 'over', 'the', 'lazy', 'dog.', 'The', 'lazy', 'programmer', 'jumps', 'over', 'the', 'fire', 'fox.']\n",
      "17 items\n",
      "\n",
      "set: {'The', 'programmer', 'jumps', 'over', 'lazy', 'fox.', 'brown', 'the', 'dog.', 'quick', 'fox', 'fire'}\n",
      "12 items\n"
     ]
    }
   ],
   "source": [
    "txt = '''The quick brown fox jumps over the lazy dog. The lazy programmer jumps over the fire fox.'''\n",
    "\n",
    "txt_list = txt.split()\n",
    "print('list:', txt_list)\n",
    "print(len(txt_list), 'items\\n')\n",
    "\n",
    "# Transform the list into a set:\n",
    "txt_set = set(txt.split())\n",
    "print('set:', txt_set)\n",
    "print(len(txt_set), 'items')"
   ]
  },
  {
   "cell_type": "markdown",
   "id": "acb49a10-7130-4eb0-913a-ce5f6e7baaf1",
   "metadata": {},
   "source": [
    "### Access items\n",
    "\n",
    "Items in a set don't have an index. Instead we have to iterate over them."
   ]
  },
  {
   "cell_type": "code",
   "execution_count": 6,
   "id": "61ea46d3-38b0-4d3d-9191-25b33b33768e",
   "metadata": {},
   "outputs": [
    {
     "name": "stdout",
     "output_type": "stream",
     "text": [
      "fox.\n",
      "The\n",
      "fox\n",
      "over\n",
      "lazy\n",
      "dog.\n",
      "programmer\n",
      "the\n",
      "quick\n",
      "fire\n",
      "jumps\n",
      "brown\n"
     ]
    }
   ],
   "source": [
    "for item in txt_set:\n",
    "    print(item)"
   ]
  },
  {
   "cell_type": "markdown",
   "id": "d174fd79-40c7-4e32-9bfc-73c612f8c0b2",
   "metadata": {},
   "source": [
    "### Add items"
   ]
  },
  {
   "cell_type": "code",
   "execution_count": 7,
   "id": "ee973b36-7d2e-4f31-bd24-796b67dfc655",
   "metadata": {},
   "outputs": [],
   "source": [
    "txt_set.add('squirrel')"
   ]
  },
  {
   "cell_type": "markdown",
   "id": "10c8059c-1457-4d9c-ab28-330825bb0083",
   "metadata": {},
   "source": [
    "### Remove items"
   ]
  },
  {
   "cell_type": "code",
   "execution_count": 9,
   "id": "d5165da2-1219-4c53-9a86-93e4178671c5",
   "metadata": {},
   "outputs": [],
   "source": [
    "txt_set.remove('fox.')"
   ]
  },
  {
   "cell_type": "markdown",
   "id": "90e9bb9e-785d-4846-ad44-f54ef8db055f",
   "metadata": {},
   "source": [
    "### Join multiple sets\n",
    "\n",
    "Sets can be joined either with `update()` or with `union()`. *Update* will merge the sets into one, *union* will create a new combined set."
   ]
  },
  {
   "cell_type": "code",
   "execution_count": 13,
   "id": "d979daef-9689-4090-a3a6-d719e4203b83",
   "metadata": {},
   "outputs": [
    {
     "name": "stdout",
     "output_type": "stream",
     "text": [
      "{5, 6, 7, 8, 9, 10, 11, 12}\n",
      "{5, 6, 7, 8, 9, 10, 11, 12}\n"
     ]
    }
   ],
   "source": [
    "# Create two sets with overlapping content:\n",
    "set_a = set([x for x in range(5, 10)])\n",
    "set_b = set([x for x in range(7, 13)])\n",
    "\n",
    "# Combine them to a new set.\n",
    "set_c = set_a.union(set_b)\n",
    "print(set_c)\n",
    "\n",
    "# Write set_b into set_a.\n",
    "set_a.update(set_b) # This happens in place.\n",
    "print(set_a)"
   ]
  },
  {
   "cell_type": "markdown",
   "id": "13b21b88-de9c-482e-a9f2-f7c0ad60337a",
   "metadata": {},
   "source": [
    "### More methods for set"
   ]
  },
  {
   "cell_type": "code",
   "execution_count": 14,
   "id": "03c7fb97-1ac9-42db-9287-4d44ef854f02",
   "metadata": {},
   "outputs": [
    {
     "name": "stdout",
     "output_type": "stream",
     "text": [
      "{5, 6}\n",
      "{10, 11, 12}\n",
      "{8, 9, 7}\n"
     ]
    }
   ],
   "source": [
    "set_a = set([x for x in range(5, 10)])\n",
    "set_b = set([x for x in range(7, 13)])\n",
    "\n",
    "\n",
    "# Calculate the difference\n",
    "\n",
    "diff_a = set_a.difference(set_b)\n",
    "print(diff_a)\n",
    "\n",
    "diff_b = set_b.difference(set_a)\n",
    "print(diff_b)\n",
    "\n",
    "\n",
    "# Calculate the intersection\n",
    "\n",
    "inter = set_a.intersection(set_b)\n",
    "print(inter)"
   ]
  },
  {
   "cell_type": "markdown",
   "id": "58222a75-e5c7-4535-90cb-6690842f36b8",
   "metadata": {},
   "source": [
    "You can inspect more methods with `help(set)`."
   ]
  },
  {
   "cell_type": "markdown",
   "id": "a5a4aefb-8d5d-4249-a59f-7adbea7d870b",
   "metadata": {},
   "source": [
    "## Summary\n",
    "\n",
    "It's not necessary to know all the methods of all different data types for collections (`list`, `tuple`, `dictionary`, `set`). It's more important to know of their existence and to know their characteristics (differences). Then you can choose the best type for your task. Most of the time this may be a `list`. But for example if you need to remove all multiple occurences of items from a list, you can easily convert it into a `set` and convert it back again into a `list`. A `tuple` may be useful to `return` multiple values from a function, a `dictionary` is obviously useful when dealing with pairs of data."
   ]
  }
 ],
 "metadata": {
  "kernelspec": {
   "display_name": "Python 3",
   "language": "python",
   "name": "python3"
  },
  "language_info": {
   "codemirror_mode": {
    "name": "ipython",
    "version": 3
   },
   "file_extension": ".py",
   "mimetype": "text/x-python",
   "name": "python",
   "nbconvert_exporter": "python",
   "pygments_lexer": "ipython3",
   "version": "3.9.7"
  }
 },
 "nbformat": 4,
 "nbformat_minor": 5
}
