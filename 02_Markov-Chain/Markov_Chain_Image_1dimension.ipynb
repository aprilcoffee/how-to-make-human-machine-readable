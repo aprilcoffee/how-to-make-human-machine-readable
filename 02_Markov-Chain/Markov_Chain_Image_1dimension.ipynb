{
 "cells": [
  {
   "cell_type": "markdown",
   "metadata": {},
   "source": [
    "# Additional - Markov Chain with Image in one dimension\n"
   ]
  },
  {
   "cell_type": "code",
   "execution_count": 1,
   "metadata": {},
   "outputs": [],
   "source": [
    "from collections import defaultdict, Counter\n",
    "from PIL import Image\n",
    "import numpy as np\n",
    "\n",
    "import random\n",
    "class MarkovChain(object):\n",
    "    def __init__(self,bucket_size = 10,four_neighbour=True, directional=False):\n",
    "        self.bucket_size = bucket_size\n",
    "        self.weights = defaultdict(Counter)\n",
    "        self.four_neighbour = four_neighbour\n",
    "        self.directional = directional\n",
    "\n",
    "    def norm(self,_pixel):\n",
    "        return _pixel // self.bucket_size\n",
    "    def denorm(self,_pixel):\n",
    "        return _pixel * self.bucket_size\n",
    "    \n",
    "    def train(self,img):\n",
    "        width,height = img.size\n",
    "        img = np.array(img)[:,:,:3]\n",
    "        for x in range(height):\n",
    "            for y in range(width):\n",
    "                pixel = tuple(self.norm(img[x,y]))\n",
    "                try:\n",
    "                    self.weights[pixel][tuple(self.norm(img[(x,y+1)]))]+=1\n",
    "                except IndexError:\n",
    "                    continue\n",
    "\n",
    "    def generate(self,initial=None,width=400, height=400):\n",
    "        \n",
    "        if initial is None:\n",
    "            initial = random.choice(list(self.weights.keys()))\n",
    "        #print(initial)\n",
    "            \n",
    "        img = Image.new('RGB',(width,height),(255,255,255))\n",
    "        img = np.array(img)\n",
    "        img_out = np.array(img.copy())\n",
    "        \n",
    "        \n",
    "        for x in range(height):\n",
    "            img[x,0] =  random.choice(list(self.weights.keys()))\n",
    "            for y in range(0,width):\n",
    "                pixel = img[x,y]\n",
    "                node = self.weights[tuple(pixel)]\n",
    "                img_out[x,y] = self.denorm(pixel)\n",
    "\n",
    "                keys = list(node.keys())\n",
    "                neighbors = self.get_neighbors(x,y)\n",
    "                counts = np.array(list(node.values()),dtype=np.float32)\n",
    "                key_index = np.arange(len(keys))\n",
    "                ps = counts / counts.sum()\n",
    "            \n",
    "                col_idx = np.random.choice(key_index, p=ps)\n",
    "                img[x,y+1] = keys[col_idx]\n",
    "                \n",
    "                except IndexError:\n",
    "                    pass\n",
    "                except ValueError:\n",
    "                    continue\n",
    "                     \n",
    "        return Image.fromarray(img_out)\n"
   ]
  },
  {
   "cell_type": "markdown",
   "metadata": {},
   "source": [
    "## adding the training picture"
   ]
  },
  {
   "cell_type": "code",
   "execution_count": 2,
   "metadata": {},
   "outputs": [],
   "source": [
    "image = Image.open(\"images/paint.jpg\")\n",
    "\n",
    "#bucket the pixel for compressing image RGB\n",
    "bucket_size = 15\n",
    "\n",
    "bucketed = Image.fromarray((np.array(image)//bucket_size) * bucket_size)\n",
    "#bucketed.show()"
   ]
  },
  {
   "cell_type": "markdown",
   "metadata": {},
   "source": [
    "## Training "
   ]
  },
  {
   "cell_type": "code",
   "execution_count": 3,
   "metadata": {},
   "outputs": [],
   "source": [
    "chain = MarkovChain(bucket_size=bucket_size, \n",
    "                    four_neighbour=True,\n",
    "                    directional=False)\n",
    "chain.train_direction(bucketed) "
   ]
  },
  {
   "cell_type": "markdown",
   "metadata": {},
   "source": [
    "## Show the image"
   ]
  },
  {
   "cell_type": "code",
   "execution_count": 4,
   "metadata": {},
   "outputs": [],
   "source": [
    "output = chain.generate(width=400, height=400)\n",
    "output.show()"
   ]
  },
  {
   "cell_type": "code",
   "execution_count": 4,
   "metadata": {},
   "outputs": [
    {
     "data": {
      "text/plain": [
       "[0, 1, 2, 3, 4, 5]"
      ]
     },
     "execution_count": 4,
     "metadata": {},
     "output_type": "execute_result"
    }
   ],
   "source": [
    "\n",
    "[i for i in range(6)] "
   ]
  },
  {
   "cell_type": "code",
   "execution_count": null,
   "metadata": {},
   "outputs": [],
   "source": []
  }
 ],
 "metadata": {
  "kernelspec": {
   "display_name": "Python 3",
   "language": "python",
   "name": "python3"
  },
  "language_info": {
   "codemirror_mode": {
    "name": "ipython",
    "version": 3
   },
   "file_extension": ".py",
   "mimetype": "text/x-python",
   "name": "python",
   "nbconvert_exporter": "python",
   "pygments_lexer": "ipython3",
   "version": "3.8.3"
  }
 },
 "nbformat": 4,
 "nbformat_minor": 4
}
