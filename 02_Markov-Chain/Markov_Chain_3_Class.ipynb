{
 "cells": [
  {
   "cell_type": "markdown",
   "metadata": {},
   "source": [
    "# Python: Class / OOP"
   ]
  },
  {
   "cell_type": "markdown",
   "metadata": {},
   "source": [
    "OOP stands for **object oriented programming**. \n",
    "\n",
    "- we can store data (attributes) and methods inside an object\n",
    "- we can create numerous instances of the same object, but all are independent\n",
    "\n",
    "## Creating a class\n",
    "\n",
    "An object is an instance of a class, which is something like a blueprint for that object.<br>\n",
    "A class is defined with the keyword `class` followed by a name of your choice (like names for variables and methods).<br>\n",
    "A class consists of at least one method called `__init__`. It's executed when a new object of that class is created.<br>\n",
    "Typically a class holds data, which can be inserted when an instance is created."
   ]
  },
  {
   "cell_type": "code",
   "execution_count": 1,
   "metadata": {},
   "outputs": [],
   "source": [
    "class custom_class:\n",
    "    def __init__(self, param1, param2):\n",
    "        # self refers to the object itself, the parameters to additional data\n",
    "        self.param1 = param1 # create an internal variable param1 and assign the value param1 (from the outside) to it\n",
    "        self.param2 = param2\n",
    "        local_variable = (119, 201, 170) # without self it's a local variable, which can't be accessed from outside"
   ]
  },
  {
   "cell_type": "markdown",
   "metadata": {},
   "source": [
    "## Create instances of that class\n",
    "\n",
    "A new object is created through calling the class like a function and assign this to a variable."
   ]
  },
  {
   "cell_type": "code",
   "execution_count": 2,
   "metadata": {},
   "outputs": [],
   "source": [
    "a = custom_class(1, 4)"
   ]
  },
  {
   "cell_type": "code",
   "execution_count": 3,
   "metadata": {},
   "outputs": [],
   "source": [
    "# Another instance of that class. This does not affect the object a.\n",
    "b = custom_class('hello', ' world!')"
   ]
  },
  {
   "cell_type": "markdown",
   "metadata": {},
   "source": [
    "It's possible to access data inside the class with the `.` notation:"
   ]
  },
  {
   "cell_type": "code",
   "execution_count": 4,
   "metadata": {},
   "outputs": [
    {
     "data": {
      "text/plain": [
       "1"
      ]
     },
     "execution_count": 4,
     "metadata": {},
     "output_type": "execute_result"
    }
   ],
   "source": [
    "a.param1"
   ]
  },
  {
   "cell_type": "code",
   "execution_count": 5,
   "metadata": {},
   "outputs": [
    {
     "data": {
      "text/plain": [
       "' world!'"
      ]
     },
     "execution_count": 5,
     "metadata": {},
     "output_type": "execute_result"
    }
   ],
   "source": [
    "b.param2"
   ]
  },
  {
   "cell_type": "markdown",
   "metadata": {},
   "source": [
    "It's possible to change the values with the same notation:"
   ]
  },
  {
   "cell_type": "code",
   "execution_count": 6,
   "metadata": {},
   "outputs": [
    {
     "data": {
      "text/plain": [
       "-1"
      ]
     },
     "execution_count": 6,
     "metadata": {},
     "output_type": "execute_result"
    }
   ],
   "source": [
    "a.param1 = -1 # override param1\n",
    "a.param1"
   ]
  },
  {
   "cell_type": "code",
   "execution_count": 7,
   "metadata": {},
   "outputs": [
    {
     "ename": "AttributeError",
     "evalue": "'custom_class' object has no attribute 'local_variable'",
     "output_type": "error",
     "traceback": [
      "\u001b[0;31m---------------------------------------------------------------------------\u001b[0m",
      "\u001b[0;31mAttributeError\u001b[0m                            Traceback (most recent call last)",
      "\u001b[0;32m/tmp/ipykernel_2832/2981977348.py\u001b[0m in \u001b[0;36m<module>\u001b[0;34m\u001b[0m\n\u001b[1;32m      1\u001b[0m \u001b[0;31m# Local variables can't be accessed from outside:\u001b[0m\u001b[0;34m\u001b[0m\u001b[0;34m\u001b[0m\u001b[0m\n\u001b[0;32m----> 2\u001b[0;31m \u001b[0ma\u001b[0m\u001b[0;34m.\u001b[0m\u001b[0mlocal_variable\u001b[0m\u001b[0;34m\u001b[0m\u001b[0;34m\u001b[0m\u001b[0m\n\u001b[0m",
      "\u001b[0;31mAttributeError\u001b[0m: 'custom_class' object has no attribute 'local_variable'"
     ]
    }
   ],
   "source": [
    "# Local variables can't be accessed from outside:\n",
    "a.local_variable"
   ]
  },
  {
   "cell_type": "markdown",
   "metadata": {},
   "source": [
    "## Additional internal methods\n",
    "\n",
    "Classes become powerful through internal methods:"
   ]
  },
  {
   "cell_type": "code",
   "execution_count": 8,
   "metadata": {},
   "outputs": [],
   "source": [
    "class custom_class:\n",
    "    def __init__(self, param1, param2):\n",
    "        self.param1 = param1\n",
    "        self.param2 = param2\n",
    "        \n",
    "    def sum_(self):\n",
    "        '''Return the sum of the parameters.'''\n",
    "        return self.param1 + self.param2"
   ]
  },
  {
   "cell_type": "code",
   "execution_count": 9,
   "metadata": {},
   "outputs": [
    {
     "data": {
      "text/plain": [
       "5"
      ]
     },
     "execution_count": 9,
     "metadata": {},
     "output_type": "execute_result"
    }
   ],
   "source": [
    "# Create an instance:\n",
    "a = custom_class(1, 4)\n",
    "\n",
    "# Call the method sum_\n",
    "a.sum_()"
   ]
  },
  {
   "cell_type": "code",
   "execution_count": 10,
   "metadata": {},
   "outputs": [
    {
     "data": {
      "text/plain": [
       "'hello world!'"
      ]
     },
     "execution_count": 10,
     "metadata": {},
     "output_type": "execute_result"
    }
   ],
   "source": [
    "b = custom_class('hello', ' world!')\n",
    "b.sum_()"
   ]
  },
  {
   "cell_type": "markdown",
   "metadata": {},
   "source": [
    "### \\_\\_str\\_\\_(self)"
   ]
  },
  {
   "cell_type": "markdown",
   "metadata": {},
   "source": [
    "A well defined class should return meaningful output when we call the print function on it:"
   ]
  },
  {
   "cell_type": "code",
   "execution_count": 11,
   "metadata": {},
   "outputs": [
    {
     "name": "stdout",
     "output_type": "stream",
     "text": [
      "<__main__.custom_class object at 0x7f159c7b4940>\n"
     ]
    }
   ],
   "source": [
    "print(b)"
   ]
  },
  {
   "cell_type": "markdown",
   "metadata": {},
   "source": [
    "This is not yet meaningful. We have to define the output through a internal method called `__str__`, which is called when the object is inserted into the `print()` function."
   ]
  },
  {
   "cell_type": "code",
   "execution_count": 12,
   "metadata": {},
   "outputs": [],
   "source": [
    "class custom_class:\n",
    "    def __init__(self, param1, param2):\n",
    "        self.param1 = param1\n",
    "        self.param2 = param2\n",
    "        \n",
    "    def __str__(self):\n",
    "        ''' __str__ is called when you convert an object into\n",
    "        a string (through print(), str()).'''\n",
    "        return f'{self.param1}, {self.param2}'\n",
    "        \n",
    "    def sum_(self):\n",
    "        '''Return the sum of the parameters.'''\n",
    "        return self.param1 + self.param2"
   ]
  },
  {
   "cell_type": "code",
   "execution_count": 13,
   "metadata": {},
   "outputs": [
    {
     "name": "stdout",
     "output_type": "stream",
     "text": [
      "hello,  world!\n"
     ]
    }
   ],
   "source": [
    "b = custom_class('hello', ' world!')\n",
    "print(b)"
   ]
  },
  {
   "cell_type": "code",
   "execution_count": 14,
   "metadata": {},
   "outputs": [
    {
     "data": {
      "text/plain": [
       "'hello,  world!'"
      ]
     },
     "execution_count": 14,
     "metadata": {},
     "output_type": "execute_result"
    }
   ],
   "source": [
    "str(b)"
   ]
  },
  {
   "cell_type": "markdown",
   "metadata": {},
   "source": [
    "### \\_\\_repr\\_\\_(self)\n",
    "\n",
    "Optional we could define a method called `__repr__`:"
   ]
  },
  {
   "cell_type": "code",
   "execution_count": 16,
   "metadata": {},
   "outputs": [],
   "source": [
    "class custom_class:\n",
    "    '''A custom class for ...'''\n",
    "    \n",
    "    def __init__(self, param1, param2):\n",
    "        self.param1 = param1\n",
    "        self.param2 = param2\n",
    "        \n",
    "    def __str__(self):\n",
    "        ''' __str__ is called when you convert an object into\n",
    "        a string (through print(), str()).'''\n",
    "        return f'{self.param1}, {self.param2}'\n",
    "    \n",
    "    def __repr__(self):\n",
    "        '''Used for a more elaborate output (for debugging).'''\n",
    "        return (f'{self.__class__.__name__}('\n",
    "                f'{self.param1!r}, {self.param2!r})')\n",
    "        \n",
    "    def sum_(self):\n",
    "        '''Return the sum of the parameters.'''\n",
    "        return self.param1 + self.param2"
   ]
  },
  {
   "cell_type": "code",
   "execution_count": 18,
   "metadata": {},
   "outputs": [
    {
     "name": "stdout",
     "output_type": "stream",
     "text": [
      "hello,  world!\n",
      "custom_class('hello', ' world!')\n"
     ]
    }
   ],
   "source": [
    "b = custom_class('hello', ' world!')\n",
    "print(b)\n",
    "print(repr(b))"
   ]
  },
  {
   "cell_type": "markdown",
   "metadata": {},
   "source": [
    "### \\_\\_doc\\_\\_"
   ]
  },
  {
   "cell_type": "markdown",
   "metadata": {},
   "source": [
    "The **docstring** of functions is accessible through the method `__doc__`:"
   ]
  },
  {
   "cell_type": "code",
   "execution_count": 20,
   "metadata": {},
   "outputs": [
    {
     "data": {
      "text/plain": [
       "'A custom class for ...'"
      ]
     },
     "execution_count": 20,
     "metadata": {},
     "output_type": "execute_result"
    }
   ],
   "source": [
    "custom_class.__doc__"
   ]
  },
  {
   "cell_type": "code",
   "execution_count": 19,
   "metadata": {},
   "outputs": [
    {
     "data": {
      "text/plain": [
       "'Return the sum of the parameters.'"
      ]
     },
     "execution_count": 19,
     "metadata": {},
     "output_type": "execute_result"
    }
   ],
   "source": [
    "custom_class.sum_.__doc__"
   ]
  },
  {
   "cell_type": "code",
   "execution_count": 20,
   "metadata": {},
   "outputs": [
    {
     "data": {
      "text/plain": [
       "'Return the sum of the parameters.'"
      ]
     },
     "execution_count": 20,
     "metadata": {},
     "output_type": "execute_result"
    }
   ],
   "source": [
    "# It's possible to call the methods through instances of the class as well:\n",
    "b.sum_.__doc__"
   ]
  },
  {
   "cell_type": "markdown",
   "metadata": {},
   "source": [
    "You can inspect more methods through `dir()`:"
   ]
  },
  {
   "cell_type": "code",
   "execution_count": 22,
   "metadata": {},
   "outputs": [
    {
     "data": {
      "text/plain": [
       "['__class__',\n",
       " '__delattr__',\n",
       " '__dict__',\n",
       " '__dir__',\n",
       " '__doc__',\n",
       " '__eq__',\n",
       " '__format__',\n",
       " '__ge__',\n",
       " '__getattribute__',\n",
       " '__gt__',\n",
       " '__hash__',\n",
       " '__init__',\n",
       " '__init_subclass__',\n",
       " '__le__',\n",
       " '__lt__',\n",
       " '__module__',\n",
       " '__ne__',\n",
       " '__new__',\n",
       " '__reduce__',\n",
       " '__reduce_ex__',\n",
       " '__repr__',\n",
       " '__setattr__',\n",
       " '__sizeof__',\n",
       " '__str__',\n",
       " '__subclasshook__',\n",
       " '__weakref__',\n",
       " 'sum_']"
      ]
     },
     "execution_count": 22,
     "metadata": {},
     "output_type": "execute_result"
    }
   ],
   "source": [
    "dir(custom_class)"
   ]
  },
  {
   "cell_type": "markdown",
   "metadata": {},
   "source": [
    "## When are classes useful?\n",
    "\n",
    "If you need to use the same object (data) multiple times or if you need multiple instances of the same object\n",
    "\n",
    "For example fpdf makes use of classes and when we create a `FPDF()`, we create one instance of the class `FPDF()`. Then this instance is used through the whole programm. It has a lot of own functions like `add_page()`, `set_font()` etc. and it stores all the data that we put into it.<br>"
   ]
  },
  {
   "cell_type": "markdown",
   "metadata": {},
   "source": [
    "## Markov class\n",
    "\n",
    "In the following use case we'll define a very simple (and not fully elaborated) class for generating text with a markov chain. First we'll insert a parameter to insert a text corpora into the class:"
   ]
  },
  {
   "cell_type": "code",
   "execution_count": 16,
   "metadata": {},
   "outputs": [],
   "source": [
    "class Markov():\n",
    "    '''Generate a text with a simple one-word based markov chain.'''\n",
    "    def __init__(self, txt):\n",
    "        self.txt = txt # Holds the text corpora"
   ]
  },
  {
   "cell_type": "code",
   "execution_count": 17,
   "metadata": {},
   "outputs": [],
   "source": [
    "txt = '''The quick brown fox jumps over the lazy dog. The lazy programmer jumps over the fire fox.'''\n",
    "\n",
    "m = Markov(txt)"
   ]
  },
  {
   "cell_type": "code",
   "execution_count": 28,
   "metadata": {},
   "outputs": [
    {
     "name": "stdout",
     "output_type": "stream",
     "text": [
      "The quick brown fox jumps over the lazy dog. The lazy programmer jumps over the fire fox.\n"
     ]
    }
   ],
   "source": [
    "# Check that the text is available:\n",
    "print(m.txt)"
   ]
  },
  {
   "cell_type": "markdown",
   "metadata": {},
   "source": [
    "Next the class needs a dictionary to hold the probabilities. This results in a clean and organized program, because we don't have to deal with the dictionary outside of the functionality of the Markov chain.<br>\n",
    "The dictionary will be created internally, so we don't need to insert a parameter for that into `__init__`:"
   ]
  },
  {
   "cell_type": "code",
   "execution_count": 29,
   "metadata": {},
   "outputs": [],
   "source": [
    "class Markov():\n",
    "    '''Generate a text with a simple one-word based markov chain.'''\n",
    "    def __init__(self, txt):\n",
    "        self.txt = txt # Holds the text corpora.\n",
    "        self.dictionary = {} # Holds the dictionary for probabilities."
   ]
  },
  {
   "cell_type": "markdown",
   "metadata": {},
   "source": [
    "Then we need a method to create that dictionary based on the text corpora:"
   ]
  },
  {
   "cell_type": "code",
   "execution_count": 30,
   "metadata": {},
   "outputs": [],
   "source": [
    "class Markov():\n",
    "    '''Generate a text with a simple one-token word markov chain.'''\n",
    "    def __init__(self, txt, txt_lower=False):\n",
    "        self.txt = txt.lower() if txt_lower else txt # Holds the text corpora.\n",
    "        self.dictionary = {} # Holds the dictionary for probabilities.\n",
    "        \n",
    "    def create_dictionary(self):\n",
    "        # Split txt into a list:\n",
    "        txt = self.txt.lower().split()\n",
    "        \n",
    "        self.dictionary = {}\n",
    "        \n",
    "        for i in range(len(txt)-1):\n",
    "            \n",
    "            # The current token (i) and the next tokens (i+n) are key.\n",
    "            key = txt[i]\n",
    "\n",
    "            # The next token after the last token of key is the corresponding value.\n",
    "            value = txt[i+1]\n",
    "            \n",
    "            # First check if the key exists in the dictionary already.\n",
    "            if key in self.dictionary.keys():\n",
    "                # If yes, append the value to the list.\n",
    "                self.dictionary[key].append(value)\n",
    "\n",
    "            # Else insert the new key + the value in form of a [list].\n",
    "            else:\n",
    "                self.dictionary[key] = [value]"
   ]
  },
  {
   "cell_type": "code",
   "execution_count": 31,
   "metadata": {},
   "outputs": [
    {
     "data": {
      "text/plain": [
       "{'the': ['quick', 'lazy', 'lazy', 'fire'],\n",
       " 'quick': ['brown'],\n",
       " 'brown': ['fox'],\n",
       " 'fox': ['jumps'],\n",
       " 'jumps': ['over', 'over'],\n",
       " 'over': ['the', 'the'],\n",
       " 'lazy': ['dog.', 'programmer'],\n",
       " 'dog.': ['the'],\n",
       " 'programmer': ['jumps'],\n",
       " 'fire': ['fox.']}"
      ]
     },
     "execution_count": 31,
     "metadata": {},
     "output_type": "execute_result"
    }
   ],
   "source": [
    "m = Markov(txt)\n",
    "m.create_dictionary()\n",
    "m.dictionary"
   ]
  },
  {
   "cell_type": "markdown",
   "metadata": {},
   "source": [
    "The last part is a method to generate a sentence:"
   ]
  },
  {
   "cell_type": "code",
   "execution_count": 32,
   "metadata": {},
   "outputs": [],
   "source": [
    "class Markov():\n",
    "    '''Generate a text with a simple one-word based markov chain.'''\n",
    "        \n",
    "    def __init__(self, txt, txt_lower=False):    \n",
    "        self.txt = txt.lower() if txt_lower else txt # Holds the text corpora.\n",
    "        self.dictionary = {} # Holds the dictionary for probabilities.\n",
    "        \n",
    "    def create_dictionary(self):\n",
    "        # Split txt into a list:\n",
    "        txt = self.txt.lower().split()\n",
    "        \n",
    "        self.dictionary = {}\n",
    "        \n",
    "        for i in range(len(txt)-1):\n",
    "            \n",
    "            # The current token (i) and the next tokens (i+n) are key.\n",
    "            key = txt[i]\n",
    "\n",
    "            # The next token after the last token of key is the corresponding value.\n",
    "            value = txt[i+1]\n",
    "            \n",
    "            # First check if the key exists in the dictionary already.\n",
    "            if key in self.dictionary.keys():\n",
    "                # If yes, append the value to the list.\n",
    "                self.dictionary[key].append(value)\n",
    "\n",
    "            # Else insert the new key + the value in form of a [list].\n",
    "            else:\n",
    "                self.dictionary[key] = [value]\n",
    "                \n",
    "    def generate_sentence(self, inp_):\n",
    "        import random\n",
    "        # Transform input into a list\n",
    "        gen_txt = inp_.split()\n",
    "        \n",
    "        while not gen_txt[-1].endswith('.'):\n",
    "            new_token = random.choice(self.dictionary[gen_txt[-1].lower()])\n",
    "            gen_txt.append(new_token)\n",
    "            \n",
    "        # Return generated text as string:\n",
    "        return ' '.join(gen_txt)"
   ]
  },
  {
   "cell_type": "code",
   "execution_count": 33,
   "metadata": {},
   "outputs": [
    {
     "name": "stdout",
     "output_type": "stream",
     "text": [
      "The quick brown fox jumps over the quick brown fox jumps over the lazy dog.\n"
     ]
    }
   ],
   "source": [
    "m = Markov(txt)\n",
    "m.create_dictionary()\n",
    "new_text = m.generate_sentence('The')\n",
    "print(new_text)"
   ]
  },
  {
   "cell_type": "code",
   "execution_count": 34,
   "metadata": {},
   "outputs": [
    {
     "name": "stdout",
     "output_type": "stream",
     "text": [
      "The fire fox.\n",
      "The quick brown fox jumps over the fire fox.\n",
      "The quick brown fox jumps over the quick brown fox jumps over the lazy dog.\n"
     ]
    }
   ],
   "source": [
    "for i in range(3):\n",
    "    print(m.generate_sentence('The'))"
   ]
  },
  {
   "cell_type": "markdown",
   "metadata": {},
   "source": [
    "## Inheritance\n",
    "\n"
   ]
  },
  {
   "cell_type": "markdown",
   "metadata": {},
   "source": [
    "The second powerful quality of OOP is **inheritance**. With that it's possible to create a new class based on an existing class, which will **inherite** all the functionality of the **parent** class and can modify it or add new functionality to it."
   ]
  },
  {
   "cell_type": "markdown",
   "metadata": {},
   "source": [
    "### Extend the custom class\n",
    "\n",
    "First we'll use the custom class from above, create a **child** class from that and add a new method."
   ]
  },
  {
   "cell_type": "code",
   "execution_count": 37,
   "metadata": {},
   "outputs": [],
   "source": [
    "class custom_class:\n",
    "    def __init__(self, param1, param2):\n",
    "        self.param1 = param1\n",
    "        self.param2 = param2\n",
    "        \n",
    "    def sum_(self):\n",
    "        '''Return the sum of the parameters.'''\n",
    "        return self.param1 + self.param2"
   ]
  },
  {
   "cell_type": "markdown",
   "metadata": {},
   "source": [
    "Syntax for that: The parent class is inserted into the child class:"
   ]
  },
  {
   "cell_type": "code",
   "execution_count": 38,
   "metadata": {},
   "outputs": [],
   "source": [
    "class child_custom_class(custom_class): # Parent class is inserted.\n",
    "    # The child class inherits all methods (like __init__()).\n",
    "    \n",
    "    # Additional (new) method:\n",
    "    def division(self):\n",
    "        '''Return a / b.'''\n",
    "        return self.param1 / self.param2"
   ]
  },
  {
   "cell_type": "markdown",
   "metadata": {},
   "source": [
    "The parent class is inserted as an argument into the child class. The child class inherits everything from the parent class, so it's not necessary to write a `__init__()` function again."
   ]
  },
  {
   "cell_type": "code",
   "execution_count": 5,
   "metadata": {},
   "outputs": [
    {
     "name": "stdout",
     "output_type": "stream",
     "text": [
      "36\n",
      "3.0\n"
     ]
    }
   ],
   "source": [
    "c = child_custom_class(27, 9)\n",
    "print(c.sum_())\n",
    "print(c.division())"
   ]
  },
  {
   "cell_type": "markdown",
   "metadata": {},
   "source": [
    "### Customize FPDF\n",
    "\n",
    "In the following we'll create a child class of [FPDF()](https://pyfpdf.github.io/fpdf2//fpdf/fpdf.html#fpdf.fpdf.FPDF) and add a new method to it."
   ]
  },
  {
   "cell_type": "code",
   "execution_count": 49,
   "metadata": {},
   "outputs": [],
   "source": [
    "from fpdf import FPDF\n",
    "\n",
    "class custom_FPDF(FPDF):\n",
    "    \n",
    "    def lorem(self):\n",
    "        txt = '''\n",
    "Dolorem rerum minima illum in rerum. Dolor totam qui id. Nemo voluptatem consectetur porro voluptatem quis ullam et. Totam pariatur nobis molestiae voluptas.\n",
    "\n",
    "Sed optio aspernatur eius labore et quisquam est placeat. Deleniti incidunt amet dolor et illum doloremque consectetur quidem. Laborum est officia temporibus reiciendis dolores repudiandae. Quaerat est nostrum aspernatur laborum error. Pariatur doloribus ut molestiae quo expedita modi asperiores. Et est ut dicta suscipit sed doloremque rerum.\n",
    "\n",
    "Suscipit aut saepe animi. Neque id doloremque harum ut voluptatibus. Optio et modi perspiciatis. Libero sint non dolor quia dignissimos. Et quae deserunt iusto pariatur est ipsum odit nemo. Alias sed expedita asperiores autem eaque autem.\n",
    "\n",
    "Sed inventore illo non ducimus. Iure blanditiis maxime vitae quia et reiciendis iste. Minus provident aut vero facilis.\n",
    "\n",
    "Esse magnam reiciendis est magni aut consequuntur. Earum mollitia harum minus. Fuga voluptatum ad voluptate incidunt officiis. Enim minus reprehenderit beatae deleniti adipisci.\n",
    "'''\n",
    "\n",
    "        return txt"
   ]
  },
  {
   "cell_type": "code",
   "execution_count": 50,
   "metadata": {},
   "outputs": [],
   "source": [
    "pdf = custom_FPDF()\n",
    "pdf.set_font('Courier')\n",
    "pdf.set_font_size(14)\n",
    "\n",
    "pdf.add_page()\n",
    "pdf.multi_cell(0, None, txt=pdf.lorem())   \n",
    "pdf.output('custom_FDPF_lorem.pdf')"
   ]
  },
  {
   "cell_type": "markdown",
   "metadata": {},
   "source": [
    "We can override existing methods as well. The method `page_no()` has this code:\n",
    "\n",
    "```python\n",
    "def page_no(self):\n",
    "    \"\"\"Get the current page number\"\"\"\n",
    "    return self.page\n",
    "```\n",
    "\n",
    "We can insert and modify it inside the custom class. (Although it may be better to insert a new function for that or just calculate it when necessary.)"
   ]
  },
  {
   "cell_type": "code",
   "execution_count": 51,
   "metadata": {},
   "outputs": [],
   "source": [
    "from fpdf import FPDF\n",
    "\n",
    "class custom_FPDF(FPDF):\n",
    "    \n",
    "    def lorem(self):\n",
    "        txt = '''\n",
    "Dolorem rerum minima illum in rerum. Dolor totam qui id. Nemo voluptatem consectetur porro voluptatem quis ullam et. Totam pariatur nobis molestiae voluptas.\n",
    "\n",
    "Sed optio aspernatur eius labore et quisquam est placeat. Deleniti incidunt amet dolor et illum doloremque consectetur quidem. Laborum est officia temporibus reiciendis dolores repudiandae. Quaerat est nostrum aspernatur laborum error. Pariatur doloribus ut molestiae quo expedita modi asperiores. Et est ut dicta suscipit sed doloremque rerum.\n",
    "\n",
    "Suscipit aut saepe animi. Neque id doloremque harum ut voluptatibus. Optio et modi perspiciatis. Libero sint non dolor quia dignissimos. Et quae deserunt iusto pariatur est ipsum odit nemo. Alias sed expedita asperiores autem eaque autem.\n",
    "\n",
    "Sed inventore illo non ducimus. Iure blanditiis maxime vitae quia et reiciendis iste. Minus provident aut vero facilis.\n",
    "\n",
    "Esse magnam reiciendis est magni aut consequuntur. Earum mollitia harum minus. Fuga voluptatum ad voluptate incidunt officiis. Enim minus reprehenderit beatae deleniti adipisci.\n",
    "'''\n",
    "\n",
    "        return txt\n",
    "    \n",
    "    def page_no(self):\n",
    "        \"\"\"Get the current squared page number\"\"\"\n",
    "        return pow(2, self.page)"
   ]
  },
  {
   "cell_type": "code",
   "execution_count": 52,
   "metadata": {},
   "outputs": [],
   "source": [
    "pdf = custom_FPDF()\n",
    "pdf.set_font('Courier')\n",
    "pdf.set_font_size(14)\n",
    "\n",
    "for i in range(4):\n",
    "    pdf.add_page()\n",
    "    pdf.multi_cell(0, None, txt=pdf.lorem())\n",
    "    pdf.set_y(-30)\n",
    "    pdf.cell(w=0, txt=str(pdf.page_no()), align='C')\n",
    "\n",
    "pdf.output('custom_FDPF_page_no.pdf')"
   ]
  },
  {
   "cell_type": "markdown",
   "metadata": {},
   "source": [
    "#### Multiple FPDF objects"
   ]
  },
  {
   "cell_type": "code",
   "execution_count": 53,
   "metadata": {},
   "outputs": [],
   "source": [
    "# Create 3 instances and store them in a list.\n",
    "pdfs = [custom_FPDF() for i in range(3)]"
   ]
  },
  {
   "cell_type": "code",
   "execution_count": 54,
   "metadata": {},
   "outputs": [],
   "source": [
    "# Set font and font size for each.\n",
    "from random import choice, randint\n",
    "\n",
    "for pdf in pdfs:\n",
    "    pdf.set_font(choice(['Helvetica', 'Times', 'Courier', 'Symbol', 'ZapfDingbats']))\n",
    "    pdf.set_font_size(randint(10, 36))"
   ]
  },
  {
   "cell_type": "code",
   "execution_count": 55,
   "metadata": {},
   "outputs": [],
   "source": [
    "# Outer loop:\n",
    "index = 0\n",
    "while len(pdfs) > 0:\n",
    "    \n",
    "    # Loop through pdf objects:\n",
    "    for pdf in pdfs:\n",
    "        pdf.add_page()\n",
    "        pdf.multi_cell(0, None, txt=pdf.lorem())\n",
    "        pdf.set_y(-30)\n",
    "        pdf.cell(w=0, txt=str(pdf.page_no()), align='C')\n",
    "        \n",
    "    # Finish one pdf each outer loop:\n",
    "    out = pdfs.pop()\n",
    "    out.output(f'multiple_custom_FPDFs_{index}.pdf')\n",
    "    index += 1"
   ]
  }
 ],
 "metadata": {
  "kernelspec": {
   "display_name": "Python 3",
   "language": "python",
   "name": "python3"
  },
  "language_info": {
   "codemirror_mode": {
    "name": "ipython",
    "version": 3
   },
   "file_extension": ".py",
   "mimetype": "text/x-python",
   "name": "python",
   "nbconvert_exporter": "python",
   "pygments_lexer": "ipython3",
   "version": "3.8.3"
  }
 },
 "nbformat": 4,
 "nbformat_minor": 5
}
