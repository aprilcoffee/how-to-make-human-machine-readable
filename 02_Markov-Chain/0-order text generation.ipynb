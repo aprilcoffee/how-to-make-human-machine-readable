{
 "cells": [
  {
   "cell_type": "markdown",
   "metadata": {},
   "source": [
    "# 0-order text generation \n",
    "\n",
    "<br>\n",
    "\n",
    "Markov chains are a simple way of **next value prediction**. This value may be for e.g. a next word, the next number or some next decision.\n",
    "\n",
    "All (historic) information used to compute this next value lies in the current value. So the next value is not based on a sequence of previous values, but just on the one current value.\n",
    "\n",
    "(In this implementation this algorithm can't learn anything!)\n",
    "\n",
    "Procedure: \n",
    "- create a dictionary of all words in a given text\n",
    "- store for each word all the direct following words\n",
    "- if a word appears as input: lookup the word in the dictionary and choose one of the options"
   ]
  },
  {
   "cell_type": "code",
   "execution_count": null,
   "metadata": {},
   "outputs": [],
   "source": []
  }
 ],
 "metadata": {
  "kernelspec": {
   "display_name": "Python 3",
   "language": "python",
   "name": "python3"
  },
  "language_info": {
   "codemirror_mode": {
    "name": "ipython",
    "version": 3
   },
   "file_extension": ".py",
   "mimetype": "text/x-python",
   "name": "python",
   "nbconvert_exporter": "python",
   "pygments_lexer": "ipython3",
   "version": "3.8.3"
  }
 },
 "nbformat": 4,
 "nbformat_minor": 4
}
