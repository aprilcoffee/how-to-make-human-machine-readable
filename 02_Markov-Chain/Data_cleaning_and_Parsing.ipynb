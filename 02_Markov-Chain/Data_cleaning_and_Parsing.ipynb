{
 "cells": [
  {
   "cell_type": "markdown",
   "metadata": {},
   "source": [
    "# Data cleaning and Parsing\n",
    "\n",
    "Data cleaning and parsing are crucial parts of working with text. Here are some basic methods of cleaning and parsing text into data. \n",
    "Our goal here is to start with a long String text or txt file, tokenizing it, and in the end, turn them into a list of words. "
   ]
  },
  {
   "cell_type": "markdown",
   "metadata": {},
   "source": [
    "## String as data\n",
    "\n",
    "String is a data type in python for a long list of Characters. "
   ]
  },
  {
   "cell_type": "code",
   "execution_count": 1,
   "metadata": {},
   "outputs": [
    {
     "name": "stdout",
     "output_type": "stream",
     "text": [
      "\n",
      "Rose is a rose is a rose is a rose\n",
      "\n"
     ]
    }
   ],
   "source": [
    "text = '''\n",
    "Rose is a rose is a rose is a rose\n",
    "'''\n",
    "\n",
    "print(text)"
   ]
  },
  {
   "cell_type": "markdown",
   "metadata": {},
   "source": [
    "## .txt file as data\n",
    "\n",
    "As we previously learnt, it is also possible to read a txt file, and turn them into String for futher usage."
   ]
  },
  {
   "cell_type": "code",
   "execution_count": 2,
   "metadata": {},
   "outputs": [
    {
     "name": "stdout",
     "output_type": "stream",
     "text": [
      "Rose is a rose is a rose is a rose\n"
     ]
    }
   ],
   "source": [
    "with open('data/rose.txt', 'r') as f:\n",
    "    text = f.read()\n",
    "    \n",
    "print(text)"
   ]
  },
  {
   "cell_type": "markdown",
   "metadata": {},
   "source": [
    "## Data Cleaning\n"
   ]
  },
  {
   "cell_type": "code",
   "execution_count": 3,
   "metadata": {},
   "outputs": [
    {
     "name": "stdout",
     "output_type": "stream",
     "text": [
      "roese is a rose is  rose\n"
     ]
    }
   ],
   "source": [
    "import string\n",
    "\n",
    "text = 'Röse is a Rose, is 1 rose!?'\n",
    "\n",
    "text=text.replace(\"\\n\",\" \").replace(\"ä\",\"ae\").replace(\"Ä\",\"Ae\").replace(\"ö\",\"oe\").replace(\"Ö\",\"oe\").replace(\"ü\",\"ue\").replace(\"Ü\",\"ue\")\n",
    "\n",
    "text = text.lower()\n",
    "\n",
    "remove_digits = str.maketrans('', '', '0123456789')\n",
    "text = text.translate(remove_digits)\n",
    "\n",
    "text = text.translate(str.maketrans('','',string.punctuation))\n",
    "\n",
    "\n",
    "print(text)"
   ]
  },
  {
   "cell_type": "markdown",
   "metadata": {},
   "source": [
    "# Merge and split text\n",
    "\n",
    "## Spliting text"
   ]
  },
  {
   "cell_type": "code",
   "execution_count": 4,
   "metadata": {},
   "outputs": [
    {
     "name": "stdout",
     "output_type": "stream",
     "text": [
      "['rose is  ', ' a rose is a rose']\n",
      "['rose', 'is', '', ',', 'a', 'rose', 'is', 'a', 'rose']\n",
      "['rose', 'is', ',', 'a', 'rose', 'is', 'a', 'rose']\n"
     ]
    }
   ],
   "source": [
    "text = 'rose is  , a rose is a rose'\n",
    "\n",
    "#split by comma\n",
    "token = text.split(',')\n",
    "print(token)\n",
    "\n",
    "#split by blank\n",
    "token = text.split(' ')\n",
    "print(token)\n",
    "\n",
    "corpus = [x for x in token if x]\n",
    "print(corpus)"
   ]
  },
  {
   "cell_type": "markdown",
   "metadata": {},
   "source": [
    "## Merging text\n",
    "\n",
    "join is the function to combine `list` of words into `string`"
   ]
  },
  {
   "cell_type": "code",
   "execution_count": 5,
   "metadata": {},
   "outputs": [
    {
     "name": "stdout",
     "output_type": "stream",
     "text": [
      "roseisaroseisarose\n",
      "rose, is, a, rose, is, a, rose\n",
      "rose is a rose is a rose\n"
     ]
    }
   ],
   "source": [
    "words = ['rose', 'is', 'a', 'rose', 'is', 'a', 'rose']\n",
    "\n",
    "#join without null\n",
    "print(''.join(words))\n",
    "\n",
    "#join with comma\n",
    "print(', '.join(words))\n",
    "\n",
    "#join with space\n",
    "print(' '.join(words))\n"
   ]
  },
  {
   "cell_type": "code",
   "execution_count": null,
   "metadata": {},
   "outputs": [],
   "source": []
  }
 ],
 "metadata": {
  "kernelspec": {
   "display_name": "Python 3",
   "language": "python",
   "name": "python3"
  },
  "language_info": {
   "codemirror_mode": {
    "name": "ipython",
    "version": 3
   },
   "file_extension": ".py",
   "mimetype": "text/x-python",
   "name": "python",
   "nbconvert_exporter": "python",
   "pygments_lexer": "ipython3",
   "version": "3.8.3"
  }
 },
 "nbformat": 4,
 "nbformat_minor": 4
}
