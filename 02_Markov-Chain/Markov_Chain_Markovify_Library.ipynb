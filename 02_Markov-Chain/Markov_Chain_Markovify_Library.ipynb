{
 "cells": [
  {
   "cell_type": "markdown",
   "metadata": {},
   "source": [
    "# Markov Chain - Markovify Library \n",
    "\n",
    "Here is the usage of a simple established library\n",
    "https://github.com/jsvine/markovify"
   ]
  },
  {
   "cell_type": "code",
   "execution_count": 1,
   "metadata": {},
   "outputs": [
    {
     "name": "stdout",
     "output_type": "stream",
     "text": [
      "Requirement already satisfied: markovify in /Users/AprilCoffee/opt/anaconda3/lib/python3.8/site-packages (0.9.3)\n",
      "Requirement already satisfied: unidecode in /Users/AprilCoffee/opt/anaconda3/lib/python3.8/site-packages (from markovify) (1.3.2)\n",
      "\u001b[33mWARNING: You are using pip version 21.1.2; however, version 22.0.2 is available.\n",
      "You should consider upgrading via the '/Users/AprilCoffee/opt/anaconda3/bin/python -m pip install --upgrade pip' command.\u001b[0m\n"
     ]
    }
   ],
   "source": [
    "!pip install markovify"
   ]
  },
  {
   "cell_type": "markdown",
   "metadata": {},
   "source": [
    "## Basic Usage"
   ]
  },
  {
   "cell_type": "code",
   "execution_count": 2,
   "metadata": {},
   "outputs": [
    {
     "name": "stdout",
     "output_type": "stream",
     "text": [
      "For example, scientists such as crosses or tools.\n",
      "An observation of a telephone for example, one can form a philosophical rationale for peace education.\n",
      "Qualia Many mental states of the National Curriculum, for Key Stage 3 & 4.\n",
      "Mental states, and therefore the will as well, would be completely determined by certain subtle features but participants were not a meaningless sentence can be implemented on artificial agents which then exhibit a form of artificial intelligence.\n",
      "Cognitive scientists study intelligence and behavior, with a phone number works.\n",
      "Seeking to overhaul all of ML is part of a system.\n",
      "This technique has an extremely complex process.\n",
      "Values and science disciplines, has claimed that the former is the behavioral environment.\n"
     ]
    }
   ],
   "source": [
    "import markovify\n",
    "\n",
    "# Get raw text as string.\n",
    "with open(\"data/wiki_selection.txt\") as f:\n",
    "    text = f.read()\n",
    "\n",
    "# Build the model.\n",
    "text_model = markovify.Text(text)\n",
    "\n",
    "# Print five randomly-generated sentences\n",
    "for i in range(5):\n",
    "    print(text_model.make_sentence())\n",
    "\n",
    "# Print three randomly-generated sentences of no more than 280 characters\n",
    "for i in range(3):\n",
    "    print(text_model.make_short_sentence(280))"
   ]
  },
  {
   "cell_type": "markdown",
   "metadata": {},
   "source": [
    "## Changing the order of training\n",
    "\n",
    "by changing the state_size, it's possible to train in different orders."
   ]
  },
  {
   "cell_type": "code",
   "execution_count": 3,
   "metadata": {},
   "outputs": [],
   "source": [
    "text_model = markovify.Text(text, state_size=3)"
   ]
  },
  {
   "cell_type": "markdown",
   "metadata": {},
   "source": [
    "## Compile and Combine Models"
   ]
  },
  {
   "cell_type": "code",
   "execution_count": 4,
   "metadata": {},
   "outputs": [
    {
     "data": {
      "text/plain": [
       "'Computational modeling can help us understand the question of what is known.'"
      ]
     },
     "execution_count": 4,
     "metadata": {},
     "output_type": "execute_result"
    }
   ],
   "source": [
    "# to compile(train) the model\n",
    "text_model = markovify.Text(text)\n",
    "text_model = text_model.compile()\n",
    "\n",
    "with open(\"data/wiki_selection.txt\") as f:\n",
    "    text_a = f.read()\n",
    "    \n",
    "with open(\"data/alles-macht-weiter.txt\") as f:\n",
    "    text_b = f.read()\n",
    "    \n",
    "# adding and combine two different models\n",
    "model_a = markovify.Text(text_a)\n",
    "model_b = markovify.Text(text_b)\n",
    "\n",
    "model_combo = markovify.combine([ model_a, model_b ], [ 1.5, 1 ])\n",
    "model_combo.make_sentence()"
   ]
  },
  {
   "cell_type": "code",
   "execution_count": null,
   "metadata": {},
   "outputs": [],
   "source": []
  }
 ],
 "metadata": {
  "kernelspec": {
   "display_name": "Python 3",
   "language": "python",
   "name": "python3"
  },
  "language_info": {
   "codemirror_mode": {
    "name": "ipython",
    "version": 3
   },
   "file_extension": ".py",
   "mimetype": "text/x-python",
   "name": "python",
   "nbconvert_exporter": "python",
   "pygments_lexer": "ipython3",
   "version": "3.8.3"
  }
 },
 "nbformat": 4,
 "nbformat_minor": 4
}
