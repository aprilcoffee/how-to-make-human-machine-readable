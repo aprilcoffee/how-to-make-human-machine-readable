{
 "cells": [
  {
   "cell_type": "markdown",
   "metadata": {},
   "source": [
    "# Data cleaning and Parsing\n",
    "\n",
    "Data cleaning and parsing are crucial parts of working with text. Here are some basic methods of cleaning and parsing text into data. \n",
    "Our goal here is to start with a long String text or txt file, tokenizing it, and in the end, turn them into a list of words. "
   ]
  },
  {
   "cell_type": "markdown",
   "metadata": {},
   "source": [
    "## String as data\n",
    "\n",
    "String is a data type in python for a long list of Characters. "
   ]
  },
  {
   "cell_type": "code",
   "execution_count": 9,
   "metadata": {},
   "outputs": [
    {
     "name": "stdout",
     "output_type": "stream",
     "text": [
      "\n",
      "Rose is a rose is a rose is a rose\n",
      "\n"
     ]
    }
   ],
   "source": [
    "text = '''\n",
    "Rose is a rose is a rose is a rose\n",
    "'''\n",
    "\n",
    "print(text)"
   ]
  },
  {
   "cell_type": "markdown",
   "metadata": {},
   "source": [
    "## .txt file as data\n",
    "\n",
    "As we previously learnt, it is also possible to read a txt file, and turn them into String for futher usage."
   ]
  },
  {
   "cell_type": "code",
   "execution_count": 11,
   "metadata": {},
   "outputs": [
    {
     "name": "stdout",
     "output_type": "stream",
     "text": [
      "Rose is a rose is a rose is a rose\n"
     ]
    }
   ],
   "source": [
    "with open('data/rose.txt', 'r') as f:\n",
    "    text = f.read()\n",
    "    \n",
    "print(text)"
   ]
  },
  {
   "cell_type": "markdown",
   "metadata": {},
   "source": [
    "## Regular Expression\n",
    "\n",
    "regular expression"
   ]
  },
  {
   "cell_type": "code",
   "execution_count": 16,
   "metadata": {},
   "outputs": [
    {
     "name": "stdout",
     "output_type": "stream",
     "text": [
      "['Rose', 'is', 'a', 'rose', 'is', 'a', 'rose', 'is', 'a', 'rose']\n"
     ]
    }
   ],
   "source": [
    "import re\n",
    "\n",
    "text=text.replace(\"ä\",\"ae\").replace(\"Ä\",\"Ae\").replace(\"ö\",\"oe\").replace(\"Ö\",\"oe\").replace(\"ü\",\"ue\").replace(\"Ü\",\"ue\")\n",
    "remove_digits = str.maketrans('', '', '0123456789')\n",
    "text = text.translate(remove_digits)\n",
    "text = re.sub(r'[^\\w\\s]','',text)\n",
    "words = text.split()\n",
    "\n",
    "print(words)"
   ]
  },
  {
   "cell_type": "code",
   "execution_count": null,
   "metadata": {},
   "outputs": [],
   "source": []
  }
 ],
 "metadata": {
  "kernelspec": {
   "display_name": "Python 3",
   "language": "python",
   "name": "python3"
  },
  "language_info": {
   "codemirror_mode": {
    "name": "ipython",
    "version": 3
   },
   "file_extension": ".py",
   "mimetype": "text/x-python",
   "name": "python",
   "nbconvert_exporter": "python",
   "pygments_lexer": "ipython3",
   "version": "3.8.3"
  }
 },
 "nbformat": 4,
 "nbformat_minor": 4
}
